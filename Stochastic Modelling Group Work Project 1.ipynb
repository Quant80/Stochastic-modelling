{
 "cells": [
  {
   "cell_type": "markdown",
   "id": "18cf0710",
   "metadata": {},
   "source": [
    "### Setup and initializations"
   ]
  },
  {
   "cell_type": "code",
   "execution_count": 1,
   "id": "7ade8b42",
   "metadata": {},
   "outputs": [],
   "source": [
    "import datetime as dt\n",
    "import math\n",
    "import warnings\n",
    "from math import exp, log, sqrt\n",
    "\n",
    "import matplotlib.pyplot as plt\n",
    "import numpy as np\n",
    "import pandas as pd\n",
    "import seaborn as sns\n",
    "import yfinance as yf\n",
    "from scipy import stats\n",
    "from scipy.integrate import quad\n",
    "from scipy.interpolate import splev, splrep\n",
    "from scipy.optimize import brute, fmin\n",
    "\n",
    "pd.options.mode.chained_assignment = None\n",
    "plt.style.use(\"seaborn\")\n",
    "sns.set_style(\"darkgrid\", {\"grid.color\": \".6\", \"grid.linestyle\": \":\"})\n",
    "plt.rcParams[\"figure.figsize\"] = (10, 6)\n",
    "warnings.simplefilter(action=\"ignore\", category=FutureWarning)"
   ]
  },
  {
   "cell_type": "markdown",
   "id": "dddd105c",
   "metadata": {},
   "source": [
    "### Constants and globals\n",
    "\n",
    "Here below are some constants which can be used to tweak of functions behavior in this notebook."
   ]
  },
  {
   "cell_type": "code",
   "execution_count": 2,
   "id": "2d705aac",
   "metadata": {},
   "outputs": [],
   "source": [
    "# MSE threshold\n",
    "MAX_MSE_H93 = 500.0\n",
    "MAX_MSE_BATES = 5000.0\n",
    "\n",
    "# Param thresholds\n",
    "KAPPA_MIN = 0.0\n",
    "THETA_MIN = 0.005\n",
    "SIGMA_MIN = 0.0\n",
    "RHO_MIN = -1.0\n",
    "RHO_MAX = 1.0\n",
    "LAMBDA_MIN = 0.0\n",
    "MU_MIN = -0.6\n",
    "MU_MAX = 0.0\n",
    "DELTA_MIN = 0.0\n",
    "\n",
    "# Output settings\n",
    "OUTPUT_EVERY_ROW = 25\n",
    "\n",
    "# params index\n",
    "KAPPA_V = 0\n",
    "THETA_V = 1\n",
    "SIGMA_V = 2\n",
    "RHO = 3\n",
    "V_0 = 4\n",
    "LAMBDA = 5\n",
    "MU = 6\n",
    "DELTA = 7\n",
    "KAPPA_R = 0\n",
    "THETA_R = 1\n",
    "SIGMA_R = 2\n",
    "\n",
    "# Bates params\n",
    "USE_REGULARIZATION = True\n",
    "\n",
    "# Other given fixed parameters\n",
    "NUMBER_OF_TRADING_DAYS = 250\n",
    "NUMBER_OF_DAYS_RATES = 360\n",
    "\n",
    "r = 0.015\n",
    "S0 = 232.90\n",
    "BANK_COMMISSION = 0.04\n",
    "\n",
    "# Option types\n",
    "EUROPEAN_OPTION = \"European\"\n",
    "AMERICAN_OPTION = \"American\"\n",
    "ASIAN_OPTION = \"Asian\"\n",
    "CALL_OPTION = \"Call\"\n",
    "PUT_OPTION = \"Put\""
   ]
  },
  {
   "cell_type": "markdown",
   "id": "fef910e6",
   "metadata": {},
   "source": [
    "### Step 0\n",
    "\n",
    "Here we chose to fetch option data provided for this project"
   ]
  },
  {
   "cell_type": "code",
   "execution_count": 3,
   "id": "b18087fb",
   "metadata": {},
   "outputs": [
    {
     "data": {
      "text/html": [
       "<div>\n",
       "<style scoped>\n",
       "    .dataframe tbody tr th:only-of-type {\n",
       "        vertical-align: middle;\n",
       "    }\n",
       "\n",
       "    .dataframe tbody tr th {\n",
       "        vertical-align: top;\n",
       "    }\n",
       "\n",
       "    .dataframe thead th {\n",
       "        text-align: right;\n",
       "    }\n",
       "</style>\n",
       "<table border=\"1\" class=\"dataframe\">\n",
       "  <thead>\n",
       "    <tr style=\"text-align: right;\">\n",
       "      <th></th>\n",
       "      <th>Days to maturity</th>\n",
       "      <th>Strike</th>\n",
       "      <th>Price</th>\n",
       "      <th>Type</th>\n",
       "      <th>T</th>\n",
       "      <th>r</th>\n",
       "    </tr>\n",
       "  </thead>\n",
       "  <tbody>\n",
       "    <tr>\n",
       "      <th>0</th>\n",
       "      <td>15</td>\n",
       "      <td>227.5</td>\n",
       "      <td>10.52</td>\n",
       "      <td>C</td>\n",
       "      <td>0.06</td>\n",
       "      <td>0.015</td>\n",
       "    </tr>\n",
       "    <tr>\n",
       "      <th>1</th>\n",
       "      <td>15</td>\n",
       "      <td>230.0</td>\n",
       "      <td>10.05</td>\n",
       "      <td>C</td>\n",
       "      <td>0.06</td>\n",
       "      <td>0.015</td>\n",
       "    </tr>\n",
       "    <tr>\n",
       "      <th>2</th>\n",
       "      <td>15</td>\n",
       "      <td>232.5</td>\n",
       "      <td>7.75</td>\n",
       "      <td>C</td>\n",
       "      <td>0.06</td>\n",
       "      <td>0.015</td>\n",
       "    </tr>\n",
       "    <tr>\n",
       "      <th>3</th>\n",
       "      <td>15</td>\n",
       "      <td>235.0</td>\n",
       "      <td>6.01</td>\n",
       "      <td>C</td>\n",
       "      <td>0.06</td>\n",
       "      <td>0.015</td>\n",
       "    </tr>\n",
       "    <tr>\n",
       "      <th>4</th>\n",
       "      <td>15</td>\n",
       "      <td>237.5</td>\n",
       "      <td>4.75</td>\n",
       "      <td>C</td>\n",
       "      <td>0.06</td>\n",
       "      <td>0.015</td>\n",
       "    </tr>\n",
       "  </tbody>\n",
       "</table>\n",
       "</div>"
      ],
      "text/plain": [
       "   Days to maturity  Strike  Price Type     T      r\n",
       "0                15   227.5  10.52    C  0.06  0.015\n",
       "1                15   230.0  10.05    C  0.06  0.015\n",
       "2                15   232.5   7.75    C  0.06  0.015\n",
       "3                15   235.0   6.01    C  0.06  0.015\n",
       "4                15   237.5   4.75    C  0.06  0.015"
      ]
     },
     "execution_count": 3,
     "metadata": {},
     "output_type": "execute_result"
    }
   ],
   "source": [
    "# Options data file\n",
    "OPTIONS_DATA_FILENAME = \"MScFE 622_Stochastic Modeling_GWP1_Option data.xlsx\"\n",
    "\n",
    "# ----------------------------------------------------#\n",
    "# Reads option data from provided xls file\n",
    "# ----------------------------------------------------#\n",
    "def read_options_data(filename):\n",
    "    # the path to the option data file\n",
    "    options = pd.read_excel(filename)\n",
    "\n",
    "    # pre-process the options data\n",
    "    options[\"T\"] = (\n",
    "        options[\"Days to maturity\"] / NUMBER_OF_TRADING_DAYS\n",
    "    )  # express in term of year\n",
    "    options[\"r\"] = r  # rate given in project assignment\n",
    "    return options\n",
    "\n",
    "\n",
    "# Options dataset\n",
    "options = read_options_data(OPTIONS_DATA_FILENAME)\n",
    "options.head()"
   ]
  },
  {
   "cell_type": "markdown",
   "id": "d5a6b734",
   "metadata": {},
   "source": [
    "### Common function implementations\n",
    "\n",
    "Here below are implementations of functions used in this notebook elsewhere.\n",
    "\n",
    "Generic function implementations"
   ]
  },
  {
   "cell_type": "code",
   "execution_count": 4,
   "id": "41801df5",
   "metadata": {},
   "outputs": [],
   "source": [
    "# ----------------------------------------------------#\n",
    "# Draws plot for given series\n",
    "# ----------------------------------------------------#\n",
    "def draw_plot(series1, xLabel, yLabel, title, series2=None, labels=[]):\n",
    "    fig, ax = plt.subplots()\n",
    "    if len(labels) != 0:\n",
    "        series1.plot(ax=ax, label=labels[0])\n",
    "    else:\n",
    "        series1.plot(ax=ax)\n",
    "    if series2 is not None:\n",
    "        ax2 = ax.twinx()\n",
    "        if len(labels) == 2:\n",
    "            series2.plot(ax=ax2, color=\"orange\", alpha=0.6, label=labels[1])\n",
    "        else:\n",
    "            series2.plot(ax=ax2, color=\"orange\", alpha=0.6)\n",
    "        h1, l1 = ax.get_legend_handles_labels()\n",
    "        h2, l2 = ax2.get_legend_handles_labels()\n",
    "        ax.legend(h1 + h2, l1 + l2, loc=2)\n",
    "\n",
    "    ax.set_xlabel(xLabel, fontsize=14)\n",
    "    ax.set_ylabel(yLabel, fontsize=14)\n",
    "\n",
    "    ax.set_title(title, fontsize=14)\n",
    "    fig.tight_layout()\n",
    "    plt.show()\n",
    "\n",
    "\n",
    "# ----------------------------------------------------#\n",
    "# Provides filtered data matching maturity date\n",
    "# ----------------------------------------------------#\n",
    "def set_options_data_filter(days_to_maturity):\n",
    "    global options_filtered\n",
    "    options_15_mask = options[\"Days to maturity\"] == days_to_maturity\n",
    "    options_15_mask &= options[\"Type\"] == \"C\"\n",
    "    options_filtered = options[options_15_mask]"
   ]
  },
  {
   "cell_type": "markdown",
   "id": "e7bfdf09",
   "metadata": {},
   "source": [
    "### Heston (1993) function implementations"
   ]
  },
  {
   "cell_type": "code",
   "execution_count": 5,
   "id": "45f7c1b9",
   "metadata": {},
   "outputs": [],
   "source": [
    "# ----------------------------------------------------#\n",
    "# Implementation for Heston(1993) characterstic func\n",
    "# ----------------------------------------------------#\n",
    "def H93_char_func(u, T, r, kappa_v, theta_v, sigma_v, rho, v0):\n",
    "    \"\"\"Valuation of European call option in H93 model via Lewis (2001)\n",
    "    Fourier-based approach: characteristic function.\n",
    "    Parameter definitions see function BCC_call_value.\"\"\"\n",
    "    c1 = kappa_v * theta_v\n",
    "    c2 = -np.sqrt(\n",
    "        (rho * sigma_v * u * 1j - kappa_v) ** 2 - sigma_v ** 2 * (-u * 1j - u ** 2)\n",
    "    )\n",
    "    c3 = (kappa_v - rho * sigma_v * u * 1j + c2) / (\n",
    "        kappa_v - rho * sigma_v * u * 1j - c2\n",
    "    )\n",
    "    H1 = r * u * 1j * T + (c1 / sigma_v ** 2) * (\n",
    "        (kappa_v - rho * sigma_v * u * 1j + c2) * T\n",
    "        - 2 * np.log((1 - c3 * np.exp(c2 * T)) / (1 - c3))\n",
    "    )\n",
    "    H2 = (\n",
    "        (kappa_v - rho * sigma_v * u * 1j + c2)\n",
    "        / sigma_v ** 2\n",
    "        * ((1 - np.exp(c2 * T)) / (1 - c3 * np.exp(c2 * T)))\n",
    "    )\n",
    "    char_func_value = np.exp(H1 + H2 * v0)\n",
    "    return char_func_value\n",
    "\n",
    "\n",
    "# ----------------------------------------------------#\n",
    "# Implementation for Heston(1993) error function\n",
    "# ----------------------------------------------------#\n",
    "def H93_error_function(call_value_func, p0):\n",
    "    \"\"\" Error function for parameter calibration in Heston model.\n",
    "    \"\"\"\n",
    "    global i, min_MSE\n",
    "    kappa_v, theta_v, sigma_v, rho, v0 = p0\n",
    "    if (\n",
    "        kappa_v < KAPPA_MIN\n",
    "        or theta_v < THETA_MIN\n",
    "        or sigma_v < SIGMA_MIN\n",
    "        or rho < RHO_MIN\n",
    "        or rho > RHO_MAX\n",
    "    ):\n",
    "        return MAX_MSE_H93\n",
    "    if 2 * kappa_v * theta_v < sigma_v ** 2:\n",
    "        return MAX_MSE_H93\n",
    "    squared_error = []\n",
    "    for row, option in options_filtered.iterrows():\n",
    "        model_value = call_value_func(\n",
    "            S0,\n",
    "            option[\"Strike\"],\n",
    "            option[\"T\"],\n",
    "            option[\"r\"],\n",
    "            kappa_v,\n",
    "            theta_v,\n",
    "            sigma_v,\n",
    "            rho,\n",
    "            v0,\n",
    "        )\n",
    "        squared_error.append((model_value - option[\"Price\"]) ** 2)\n",
    "    MSE = sum(squared_error) / len(squared_error)\n",
    "    min_MSE = min(min_MSE, MSE)\n",
    "    if i % OUTPUT_EVERY_ROW == 0:\n",
    "        print(\"%4d |\" % i, np.array(p0), \"| %7.3f | %7.3f\" % (MSE, min_MSE))\n",
    "    i += 1\n",
    "    return MSE\n",
    "\n",
    "\n",
    "# ----------------------------------------------------#\n",
    "# Calculcates call option values for Heston(1993)\n",
    "# ----------------------------------------------------#\n",
    "def H93_calculate_model_values(call_value_func, p0):\n",
    "    \"\"\" Calculates all model values given parameter vector p0. \"\"\"\n",
    "    kappa_v, theta_v, sigma_v, rho, v0 = p0\n",
    "    values = []\n",
    "    for row, option in options_filtered.iterrows():\n",
    "        model_value = call_value_func(\n",
    "            S0,\n",
    "            option[\"Strike\"],\n",
    "            option[\"T\"],\n",
    "            option[\"r\"],\n",
    "            kappa_v,\n",
    "            theta_v,\n",
    "            sigma_v,\n",
    "            rho,\n",
    "            v0,\n",
    "        )\n",
    "        values.append(model_value)\n",
    "    return np.array(values)"
   ]
  },
  {
   "cell_type": "markdown",
   "id": "2d33a301",
   "metadata": {},
   "source": [
    "### Heston (1993) using Lewis(2001) method implementations"
   ]
  },
  {
   "cell_type": "code",
   "execution_count": 6,
   "id": "86651b39",
   "metadata": {},
   "outputs": [],
   "source": [
    "# ----------------------------------------------------#\n",
    "# Implementation for Heston(1993) Lewis(2001) integral\n",
    "# unction\n",
    "# ----------------------------------------------------#\n",
    "def H93_Lewis_int_func(u, S0, K, T, r, kappa_v, theta_v, sigma_v, rho, v0):\n",
    "    \"\"\"\n",
    "    Fourier-based approach for Lewis (2001): Integration function.\n",
    "    \"\"\"\n",
    "    char_func_value = H93_char_func(\n",
    "        u - 1j * 0.5, T, r, kappa_v, theta_v, sigma_v, rho, v0\n",
    "    )\n",
    "    int_func_value = (\n",
    "        1 / (u ** 2 + 0.25) * (np.exp(1j * u * np.log(S0 / K)) * char_func_value).real\n",
    "    )\n",
    "    return int_func_value\n",
    "\n",
    "\n",
    "# ----------------------------------------------------#\n",
    "# Implementation for Heston(1993) call value function\n",
    "# ----------------------------------------------------#\n",
    "def H93_Lewis_call_value(S0, K, T, r, kappa_v, theta_v, sigma_v, rho, v0):\n",
    "    \"\"\"Valuation of European call option in H93 model via Lewis (2001)\n",
    "    \"\"\"\n",
    "    int_value = quad(\n",
    "        lambda u: H93_Lewis_int_func(\n",
    "            u, S0, K, T, r, kappa_v, theta_v, sigma_v, rho, v0\n",
    "        ),\n",
    "        0,\n",
    "        np.inf,\n",
    "        limit=250,\n",
    "    )[0]\n",
    "    call_value = max(0, S0 - np.exp(-r * T) * np.sqrt(S0 * K) / np.pi * int_value)\n",
    "    return call_value\n",
    "\n",
    "\n",
    "# ----------------------------------------------------#\n",
    "# Implementation for Heston(1993) error function\n",
    "# ----------------------------------------------------#\n",
    "def H93_Lewis_error_function(p0):\n",
    "    return H93_error_function(H93_Lewis_call_value, p0)\n",
    "\n",
    "\n",
    "# ----------------------------------------------------#\n",
    "# Calculates call option values for Heston(1993)\n",
    "# via Lewis(2001)\n",
    "# ----------------------------------------------------#\n",
    "def H93_Lewis_calculate_model_values(p0):\n",
    "    \"\"\" Calculates all model values given parameter vector p0. \"\"\"\n",
    "    return H93_calculate_model_values(H93_Lewis_call_value, p0)"
   ]
  },
  {
   "cell_type": "markdown",
   "id": "bed078fa",
   "metadata": {},
   "source": [
    "### Heston (1993) using Carr-Madan(1999) method implementations"
   ]
  },
  {
   "cell_type": "code",
   "execution_count": 7,
   "id": "30ba14f0",
   "metadata": {},
   "outputs": [],
   "source": [
    "def H93_CM99_call_FFT(S0, K, T, r, kappa_v, theta_v, sigma_v, rho, v0):\n",
    "    \"\"\"\n",
    "    Call option price in Bates (1996) under FFT\n",
    "    \"\"\"\n",
    "\n",
    "    k = np.log(K / S0)\n",
    "    g = 1  # Factor to increase accuracy\n",
    "    N = g * 4096\n",
    "    eps = (g * 150) ** -1\n",
    "    eta = 2 * np.pi / (N * eps)\n",
    "    b = 0.5 * N * eps - k\n",
    "    u = np.arange(1, N + 1, 1)\n",
    "    vo = eta * (u - 1)\n",
    "\n",
    "    # Modifications to ensure integrability\n",
    "    if S0 >= 0.95 * K:  # ITM Case\n",
    "        alpha = 1.5\n",
    "        v = vo - (alpha + 1) * 1j\n",
    "        modcharFunc = np.exp(-r * T) * (\n",
    "            H93_char_func(u, T, r, kappa_v, theta_v, sigma_v, rho, v0)\n",
    "            / (alpha ** 2 + alpha - vo ** 2 + 1j * (2 * alpha + 1) * vo)\n",
    "        )\n",
    "\n",
    "    else:\n",
    "        alpha = 1.1\n",
    "        v = (vo - 1j * alpha) - 1j\n",
    "        modcharFunc1 = np.exp(-r * T) * (\n",
    "            1 / (1 + 1j * (vo - 1j * alpha))\n",
    "            - np.exp(r * T) / (1j * (vo - 1j * alpha))\n",
    "            - H93_char_func(u, T, r, kappa_v, theta_v, sigma_v, rho, v0)\n",
    "            / ((vo - 1j * alpha) ** 2 - 1j * (vo - 1j * alpha))\n",
    "        )\n",
    "\n",
    "        v = (vo + 1j * alpha) - 1j\n",
    "\n",
    "        modcharFunc2 = np.exp(-r * T) * (\n",
    "            1 / (1 + 1j * (vo + 1j * alpha))\n",
    "            - np.exp(r * T) / (1j * (vo + 1j * alpha))\n",
    "            - H93_char_func(u, T, r, kappa_v, theta_v, sigma_v, rho, v0)\n",
    "            / ((vo + 1j * alpha) ** 2 - 1j * (vo + 1j * alpha))\n",
    "        )\n",
    "\n",
    "    # Numerical FFT Routine\n",
    "    delt = np.zeros(N)\n",
    "    delt[0] = 1\n",
    "    j = np.arange(1, N + 1, 1)\n",
    "    SimpsonW = (3 + (-1) ** j - delt) / 3\n",
    "    if S0 >= 0.95 * K:\n",
    "        FFTFunc = np.exp(1j * b * vo) * modcharFunc * eta * SimpsonW\n",
    "        payoff = (np.fft.fft(FFTFunc)).real\n",
    "        CallValueM = np.exp(-alpha * k) / np.pi * payoff\n",
    "    else:\n",
    "        FFTFunc = (\n",
    "            np.exp(1j * b * vo) * (modcharFunc1 - modcharFunc2) * 0.5 * eta * SimpsonW\n",
    "        )\n",
    "        payoff = (np.fft.fft(FFTFunc)).real\n",
    "        CallValueM = payoff / (np.sinh(alpha * k) * np.pi)\n",
    "\n",
    "    pos = int((k + b) / eps)\n",
    "    CallValue = CallValueM[pos] * S0\n",
    "\n",
    "    return CallValue\n",
    "\n",
    "\n",
    "# ----------------------------------------------------#\n",
    "# Implementation for Heston(1993) error function\n",
    "# ----------------------------------------------------#\n",
    "def H93_CM99_error_function(p0):\n",
    "    return H93_error_function(H93_CM99_call_FFT, p0)\n",
    "\n",
    "\n",
    "# ----------------------------------------------------#\n",
    "# Calculates call option values for Heston(1993)\n",
    "# via Lewis(2001)\n",
    "# ----------------------------------------------------#\n",
    "def H93_CM99_calculate_model_values(p0):\n",
    "    return H93_calculate_model_values(H93_CM99_call_FFT, p0)"
   ]
  },
  {
   "cell_type": "markdown",
   "id": "58f69907",
   "metadata": {},
   "source": [
    "### Monte Carlo simulation implementations"
   ]
  },
  {
   "cell_type": "code",
   "execution_count": 8,
   "id": "583923f6",
   "metadata": {},
   "outputs": [],
   "source": [
    "# ----------------------------------------------------#\n",
    "# Implementation for Heston model for option\n",
    "# Returns option value\n",
    "# ----------------------------------------------------#\n",
    "def heston_model_mc_option_value(\n",
    "    S0,\n",
    "    K,\n",
    "    T,\n",
    "    r,\n",
    "    σ,\n",
    "    option_type,\n",
    "    call_put,\n",
    "    ν0,\n",
    "    κ,\n",
    "    θ,\n",
    "    ρ,\n",
    "    iterations=100_000,\n",
    "    steps=255,\n",
    "    up_down=\"\",\n",
    "    barrier=-1,\n",
    "):\n",
    "    print(\n",
    "        \"\\x1b[35mPricing \"\n",
    "        + option_type\n",
    "        + \" \"\n",
    "        + call_put\n",
    "        + \" option using Monte Carlo simulation...\\x1b[0m\"\n",
    "    )\n",
    "    print(f\"Option params: S0: {S0}, K:{K}, T:{T}, r:{r}, σ:{σ}\")\n",
    "    print(f\"Model params: ν0:{ν0}, κ:{κ}, θ:{θ}, ρ:{ρ}\")\n",
    "    if barrier != -1:\n",
    "        print(f\"Barrier option params: Direction:{up_down}, Barrier:{barrier}\")\n",
    "\n",
    "    S = heston_model_paths(S0, K, T, r, σ, ν0, κ, θ, ρ, iterations, steps)\n",
    "    value = round(\n",
    "        simulated_asset_option(\n",
    "            S, K, T, r, option_type, call_put, iterations, steps, up_down, barrier\n",
    "        ),\n",
    "        2,\n",
    "    )\n",
    "\n",
    "    print(\n",
    "        \"\\x1b[32m \"\n",
    "        + option_type\n",
    "        + f\" option price using Heston model is \\x1b[0m${value}\"\n",
    "    )\n",
    "    return value\n",
    "\n",
    "\n",
    "# ----------------------------------------------------#\n",
    "# Implementation for Heston model paths for an asset\n",
    "# ----------------------------------------------------#\n",
    "def heston_model_paths(S0, K, T, r, σ, ν0, κ, θ, ρ, iterations, steps):\n",
    "    no_of_rvs = 2\n",
    "    W = np.random.standard_normal((no_of_rvs, steps + 1, iterations))\n",
    "    dt = T / steps\n",
    "    sqrt_dt = np.sqrt(dt)\n",
    "\n",
    "    cov_matrix = np.array([[1.0, ρ], [ρ, 1.0]])\n",
    "    cho_matrix = np.linalg.cholesky(cov_matrix)\n",
    "\n",
    "    v = np.zeros((steps + 1, iterations), dtype=float)\n",
    "    v[0] = ν0\n",
    "\n",
    "    S = np.zeros((steps + 1, iterations), dtype=float)\n",
    "    S[0] = S0\n",
    "\n",
    "    for step in range(1, steps + 1):\n",
    "        ϵ = np.dot(cho_matrix, W[:, step])\n",
    "        v[step] = np.maximum(\n",
    "            0,\n",
    "            v[step - 1]\n",
    "            + κ * (θ - v[step - 1]) * dt\n",
    "            + np.sqrt(v[step - 1]) * σ * ϵ[1] * sqrt_dt,\n",
    "        )\n",
    "\n",
    "        S[step] = S[step - 1] * np.exp(\n",
    "            (r - 0.5 * v[step]) * dt + np.sqrt(v[step]) * ϵ[0] * sqrt_dt\n",
    "        )\n",
    "    return S\n",
    "\n",
    "\n",
    "# ----------------------------------------------------#\n",
    "# Implementation for pricing American and European options\n",
    "# given asset paths simulated using different models\n",
    "# ----------------------------------------------------#\n",
    "def simulated_asset_option(\n",
    "    S,\n",
    "    K,\n",
    "    T,\n",
    "    r,\n",
    "    option_type,\n",
    "    call_put,\n",
    "    iterations=100_000,\n",
    "    steps=255,\n",
    "    up_down=\"\",\n",
    "    barrier=-1,\n",
    "):\n",
    "    dt = T / steps\n",
    "    O = np.zeros((steps + 1, iterations))\n",
    "\n",
    "    # Hanle Asian option here\n",
    "    if option_type == ASIAN_OPTION:\n",
    "        if call_put == CALL_OPTION:\n",
    "            O[steps, :] = np.maximum(np.mean(S[:,], axis=0) - K, 0)\n",
    "        else:\n",
    "            O[steps, :] = np.maximum(K - np.mean(S[:,], axis=0), 0)\n",
    "    else:  # Needed for all other type of options\n",
    "        if call_put == CALL_OPTION:\n",
    "            O[steps, :] = np.maximum(S[-1, :] - K, 0)\n",
    "        else:\n",
    "            O[steps, :] = np.maximum(K - S[-1, :], 0)\n",
    "\n",
    "    # Handle American option here\n",
    "    for step in range(steps, 0, -1):\n",
    "        if option_type == AMERICAN_OPTION:\n",
    "            if call_put == CALL_OPTION:\n",
    "                O[step - 1, :] = np.maximum(\n",
    "                    S[step - 1, :] - K, np.exp(-r * dt) * O[step, :]\n",
    "                )\n",
    "            else:\n",
    "                O[step - 1, :] = np.maximum(\n",
    "                    K - S[step - 1, :], np.exp(-r * dt) * O[step, :]\n",
    "                )\n",
    "        else:\n",
    "            if call_put == CALL_OPTION:\n",
    "                O[0, :] = np.exp(-r * T) * (O[steps, :])\n",
    "            else:\n",
    "                O[0, :] = np.exp(-r * T) * (O[steps, :])\n",
    "            break\n",
    "    # Handle barrier option here\n",
    "    if barrier != -1:\n",
    "        if up_down == \"u\" or up_down == \"U\":\n",
    "            O[0, :] = np.where(\n",
    "                np.max(S[:], axis=0) >= barrier, O[0, :], np.zeros_like(O[0, :])\n",
    "            )\n",
    "        elif up_down == \"d\" or up_down == \"D\":\n",
    "            O[0, :] = np.where(\n",
    "                np.min(S[:], axis=0) <= barrier, O[0, :], np.zeros_like(O[0, :])\n",
    "            )\n",
    "    return np.mean(O[0, :])\n",
    "\n",
    "\n",
    "# ----------------------------------------------------#\n",
    "# Calculates call option values for Monte Carlo\n",
    "# ----------------------------------------------------#\n",
    "def heston_model_mc_option_values(p0, maturity, option_type, call_or_put):\n",
    "    \"\"\" Calculates all model values given parameter vector p0. \"\"\"\n",
    "    kappa_v, theta_v, sigma_v, rho, v0 = p0\n",
    "    values = []\n",
    "    for row, option in options_filtered.iterrows():\n",
    "        model_value = heston_model_mc_option_value(\n",
    "            S0,\n",
    "            option[\"Strike\"],\n",
    "            maturity,\n",
    "            option[\"r\"],\n",
    "            p0[SIGMA_V],\n",
    "            option_type,\n",
    "            call_or_put,\n",
    "            p0[V_0],\n",
    "            p0[KAPPA_V],\n",
    "            p0[THETA_V],\n",
    "            p0[RHO],\n",
    "        )\n",
    "        values.append(model_value)\n",
    "    return np.array(values)"
   ]
  },
  {
   "cell_type": "markdown",
   "id": "f9e33946",
   "metadata": {},
   "source": [
    "### Bates(1996) function implementations"
   ]
  },
  {
   "cell_type": "code",
   "execution_count": 9,
   "id": "0c155cb5",
   "metadata": {},
   "outputs": [],
   "source": [
    "def B96_call_value(S0, K, T, r, kappa_v, theta_v, sigma_v, rho, v0, lamb, mu, delta):\n",
    "    \"\"\"\n",
    "    Valuation of European call option in B96 Model via Lewis (2001)\n",
    "    \"\"\"\n",
    "    int_value = quad(\n",
    "        lambda u: B96_int_func(\n",
    "            u, S0, K, T, r, kappa_v, theta_v, sigma_v, rho, v0, lamb, mu, delta\n",
    "        ),\n",
    "        0,\n",
    "        np.inf,\n",
    "        limit=250,\n",
    "    )[0]\n",
    "    call_value = max(0, S0 - np.exp(-r * T) * np.sqrt(S0 * K) / np.pi * int_value)\n",
    "    return call_value\n",
    "\n",
    "\n",
    "def B96_error_function_full(p0):\n",
    "    global i, min_MSE\n",
    "    kappa_v, theta_v, sigma_v, rho, v0, lamb, mu, delta = p0\n",
    "    if (\n",
    "        p0[KAPPA_V] < KAPPA_MIN\n",
    "        or p0[THETA_V] < THETA_MIN\n",
    "        or p0[SIGMA_V] < SIGMA_MIN\n",
    "        or p0[RHO] < RHO_MIN\n",
    "        or p0[RHO] > RHO_MAX\n",
    "        or p0[V_0] < 0.0\n",
    "        or p0[LAMBDA] < 0.0\n",
    "        or p0[MU] < -0.6\n",
    "        or p0[MU] > 0.0\n",
    "        or p0[DELTA] < 0.0\n",
    "    ):\n",
    "        return MAX_MSE_BATES\n",
    "\n",
    "    if 2 * p0[KAPPA_V] * p0[THETA_V] < p0[SIGMA_V] ** 2:\n",
    "        return MAX_MSE_BATES\n",
    "    se = []\n",
    "    for row, option in options_filtered.iterrows():\n",
    "        model_value = B96_call_value(\n",
    "            S0,\n",
    "            option[\"Strike\"],\n",
    "            option[\"T\"],\n",
    "            option[\"r\"],\n",
    "            kappa_v,\n",
    "            theta_v,\n",
    "            sigma_v,\n",
    "            rho,\n",
    "            v0,\n",
    "            lamb,\n",
    "            mu,\n",
    "            delta,\n",
    "        )\n",
    "        se.append((model_value - option[\"Price\"]) ** 2)\n",
    "\n",
    "    MSE = sum(se) / len(se)\n",
    "    min_MSE = min(min_MSE, MSE)\n",
    "    if i % 25 == 0:\n",
    "        print(\"%4d |\" % i, np.array(p0), \"| %7.3f | %7.3f\" % (MSE, min_MSE))\n",
    "    i += 1\n",
    "    return MSE\n",
    "\n",
    "\n",
    "def B96_error_function(p0, *option_params_heston):\n",
    "    \"\"\"\n",
    "    Error function for Bates (1996) model\n",
    "    \"\"\"\n",
    "\n",
    "    global i, min_MSE, USE_REGULARIZATION, opt_params_lewis_bates_initial\n",
    "    lamb, mu, delta = p0\n",
    "    kappa_v, theta_v, sigma_v, rho, v0 = option_params_heston\n",
    "\n",
    "    if lamb < LAMBDA_MIN or mu < MU_MIN or mu > MU_MAX or delta < DELTA_MIN:\n",
    "        return MAX_MSE_BATES\n",
    "    se = []\n",
    "    for row, option in options_filtered.iterrows():\n",
    "        model_value = B96_call_value(\n",
    "            S0,\n",
    "            option[\"Strike\"],\n",
    "            option[\"T\"],\n",
    "            option[\"r\"],\n",
    "            kappa_v,\n",
    "            theta_v,\n",
    "            sigma_v,\n",
    "            rho,\n",
    "            v0,\n",
    "            lamb,\n",
    "            mu,\n",
    "            delta,\n",
    "        )\n",
    "        se.append((model_value - option[\"Price\"]) ** 2)\n",
    "    MSE = sum(se) / len(se)\n",
    "    min_MSE = min(min_MSE, MSE)\n",
    "    if i % 25 == 0:\n",
    "        print(\n",
    "            \"%4d |\" % i,\n",
    "            np.array(np.concatenate((p0, option_params_heston))),\n",
    "            \"| %7.3f | %7.3f\" % (MSE, min_MSE),\n",
    "        )\n",
    "    i += 1\n",
    "    if USE_REGULARIZATION:\n",
    "        penalty = np.sqrt(np.sum((p0 - opt_params_lewis_bates_initial) ** 2)) * 1\n",
    "        return MSE + penalty\n",
    "    return MSE\n",
    "\n",
    "\n",
    "def M76J_char_func(u, T, lamb, mu, delta):\n",
    "    \"\"\"\n",
    "    Adjusted Characteristic function for Merton '76 model: Only jump component\n",
    "    \"\"\"\n",
    "\n",
    "    omega = -lamb * (np.exp(mu + 0.5 * delta ** 2) - 1)\n",
    "    char_func_value = np.exp(\n",
    "        (1j * u * omega + lamb * (np.exp(1j * u * mu - u ** 2 * delta ** 2 * 0.5) - 1))\n",
    "        * T\n",
    "    )\n",
    "    return char_func_value\n",
    "\n",
    "\n",
    "def B96_char_func(u, T, r, kappa_v, theta_v, sigma_v, rho, v0, lamb, mu, delta):\n",
    "    \"\"\"\n",
    "    Bates (1996) characteristic function\n",
    "    \"\"\"\n",
    "    H93 = H93_char_func(u, T, r, kappa_v, theta_v, sigma_v, rho, v0)\n",
    "    M76J = M76J_char_func(u, T, lamb, mu, delta)\n",
    "    return H93 * M76J\n",
    "\n",
    "\n",
    "def B96_int_func(u, S0, K, T, r, kappa_v, theta_v, sigma_v, rho, v0, lamb, mu, delta):\n",
    "    \"\"\"\n",
    "    Lewis (2001) integral value for Bates (1996) characteristic function\n",
    "    \"\"\"\n",
    "    char_func_value = B96_char_func(\n",
    "        u - 1j * 0.5, T, r, kappa_v, theta_v, sigma_v, rho, v0, lamb, mu, delta\n",
    "    )\n",
    "    int_func_value = (\n",
    "        1 / (u ** 2 + 0.25) * (np.exp(1j * u * np.log(S0 / K)) * char_func_value).real\n",
    "    )\n",
    "    return int_func_value\n",
    "\n",
    "\n",
    "def B96_jump_calculate_model_values(p0, option_params_heston=None):\n",
    "    \"\"\"Calculates all model values given parameter vector p0.\"\"\"\n",
    "    if option_params_heston is not None:\n",
    "        lamb, mu, delta = p0\n",
    "        kappa, theta, sigma, rho, v0 = option_params_heston\n",
    "    else:\n",
    "        kappa, theta, sigma, rho, v0, lamb, mu, delta = p0\n",
    "    values = []\n",
    "    for row, option in options_filtered.iterrows():\n",
    "        model_value = B96_call_value(\n",
    "            S0,\n",
    "            option[\"Strike\"],\n",
    "            option[\"T\"],\n",
    "            option[\"r\"],\n",
    "            kappa,\n",
    "            theta,\n",
    "            sigma,\n",
    "            rho,\n",
    "            v0,\n",
    "            lamb,\n",
    "            mu,\n",
    "            delta,\n",
    "        )\n",
    "        values.append(model_value)\n",
    "    return np.array(values)"
   ]
  },
  {
   "cell_type": "markdown",
   "id": "3d2bbaf7",
   "metadata": {},
   "source": [
    "### CIR (1985) function implementations"
   ]
  },
  {
   "cell_type": "code",
   "execution_count": 10,
   "id": "c6cb016d",
   "metadata": {},
   "outputs": [],
   "source": [
    "def CIR_forward_rate(alpha):\n",
    "    \"\"\"\n",
    "    Forward rates in CIR (1985) model\n",
    "    The set of parameters is called alpha and include Kappa_r, Theta_r and Sigma_r\n",
    "    \"\"\"\n",
    "\n",
    "    kappa_r, theta_r, sigma_r = alpha\n",
    "\n",
    "    t = mat_list_n\n",
    "    g = np.sqrt(kappa_r ** 2 + 2 * sigma_r ** 2)\n",
    "\n",
    "    s1 = (kappa_r * theta_r * (np.exp(g * t) - 1)) / (\n",
    "        2 * g + (kappa_r + g) * (np.exp(g * t) - 1)\n",
    "    )\n",
    "\n",
    "    s2 = r0 * (\n",
    "        (4 * g ** 2 * np.exp(g * t)) / (2 * g + (kappa_r + g) * (np.exp(g * t)) ** 2)\n",
    "    )\n",
    "\n",
    "    return s1 + s2\n",
    "\n",
    "\n",
    "def CIR_error_function(alpha):\n",
    "    \"\"\"\n",
    "    Error function to calibrate CIR (1985) model\n",
    "    \"\"\"\n",
    "    global i, min_MSE\n",
    "    kappa_r, theta_r, sigma_r = alpha\n",
    "\n",
    "    # Few remarks to avoid problems for certain values of parameters:\n",
    "    if 2 * kappa_r * theta_r < sigma_r ** 2:\n",
    "        return 100\n",
    "    if kappa_r < 0 or theta_r < 0 or sigma_r < 0.001:\n",
    "        return 100\n",
    "\n",
    "    forward_rates = CIR_forward_rate(alpha)\n",
    "    MSE = np.sum((forward_rates_cspline - forward_rates) ** 2) / len(\n",
    "        forward_rates_cspline\n",
    "    )\n",
    "    min_MSE = min(min_MSE, MSE)\n",
    "    if i % 25 == 0:\n",
    "        print(\"%4d |\" % i, alpha, \"| %7.5f | %7.5f\" % (MSE, min_MSE))\n",
    "    i += 1\n",
    "\n",
    "    return MSE\n",
    "\n",
    "\n",
    "def cir_model_paths(r0, k, theta, sigma, T, steps, iterations):\n",
    "    dt = T / steps\n",
    "    rates = np.zeros((steps, iterations))\n",
    "    rates[0, :] = r0\n",
    "    for j in range(iterations):\n",
    "        for i in range(1, steps):\n",
    "            dr = (\n",
    "                k * (theta - rates[i - 1, j]) * dt\n",
    "                + sigma\n",
    "                * np.sqrt(dt)\n",
    "                * np.sqrt(np.maximum(rates[i - 1, j], 0))\n",
    "                * np.random.normal()\n",
    "            )\n",
    "            rates[i, j] = rates[i - 1, j] + dr\n",
    "    return rates"
   ]
  },
  {
   "cell_type": "markdown",
   "id": "1b7bc6c5",
   "metadata": {},
   "source": [
    "## Step 1\n",
    "\n",
    "### Heston Model (1993)"
   ]
  },
  {
   "cell_type": "code",
   "execution_count": 11,
   "id": "d30b389e",
   "metadata": {},
   "outputs": [
    {
     "data": {
      "text/html": [
       "<div>\n",
       "<style scoped>\n",
       "    .dataframe tbody tr th:only-of-type {\n",
       "        vertical-align: middle;\n",
       "    }\n",
       "\n",
       "    .dataframe tbody tr th {\n",
       "        vertical-align: top;\n",
       "    }\n",
       "\n",
       "    .dataframe thead th {\n",
       "        text-align: right;\n",
       "    }\n",
       "</style>\n",
       "<table border=\"1\" class=\"dataframe\">\n",
       "  <thead>\n",
       "    <tr style=\"text-align: right;\">\n",
       "      <th></th>\n",
       "      <th>Days to maturity</th>\n",
       "      <th>Strike</th>\n",
       "      <th>Price</th>\n",
       "      <th>Type</th>\n",
       "      <th>T</th>\n",
       "      <th>r</th>\n",
       "    </tr>\n",
       "  </thead>\n",
       "  <tbody>\n",
       "    <tr>\n",
       "      <th>0</th>\n",
       "      <td>15</td>\n",
       "      <td>227.5</td>\n",
       "      <td>10.52</td>\n",
       "      <td>C</td>\n",
       "      <td>0.06</td>\n",
       "      <td>0.015</td>\n",
       "    </tr>\n",
       "    <tr>\n",
       "      <th>1</th>\n",
       "      <td>15</td>\n",
       "      <td>230.0</td>\n",
       "      <td>10.05</td>\n",
       "      <td>C</td>\n",
       "      <td>0.06</td>\n",
       "      <td>0.015</td>\n",
       "    </tr>\n",
       "    <tr>\n",
       "      <th>2</th>\n",
       "      <td>15</td>\n",
       "      <td>232.5</td>\n",
       "      <td>7.75</td>\n",
       "      <td>C</td>\n",
       "      <td>0.06</td>\n",
       "      <td>0.015</td>\n",
       "    </tr>\n",
       "    <tr>\n",
       "      <th>3</th>\n",
       "      <td>15</td>\n",
       "      <td>235.0</td>\n",
       "      <td>6.01</td>\n",
       "      <td>C</td>\n",
       "      <td>0.06</td>\n",
       "      <td>0.015</td>\n",
       "    </tr>\n",
       "    <tr>\n",
       "      <th>4</th>\n",
       "      <td>15</td>\n",
       "      <td>237.5</td>\n",
       "      <td>4.75</td>\n",
       "      <td>C</td>\n",
       "      <td>0.06</td>\n",
       "      <td>0.015</td>\n",
       "    </tr>\n",
       "  </tbody>\n",
       "</table>\n",
       "</div>"
      ],
      "text/plain": [
       "   Days to maturity  Strike  Price Type     T      r\n",
       "0                15   227.5  10.52    C  0.06  0.015\n",
       "1                15   230.0  10.05    C  0.06  0.015\n",
       "2                15   232.5   7.75    C  0.06  0.015\n",
       "3                15   235.0   6.01    C  0.06  0.015\n",
       "4                15   237.5   4.75    C  0.06  0.015"
      ]
     },
     "execution_count": 11,
     "metadata": {},
     "output_type": "execute_result"
    }
   ],
   "source": [
    "# Set options filter to matching maturity\n",
    "DAYS_TO_MATURITY = 15\n",
    "set_options_data_filter(DAYS_TO_MATURITY)\n",
    "options_filtered"
   ]
  },
  {
   "cell_type": "markdown",
   "id": "94cc5825",
   "metadata": {},
   "source": [
    "## Calibration with Lewis (2001)"
   ]
  },
  {
   "cell_type": "code",
   "execution_count": 12,
   "id": "7c097b4d",
   "metadata": {},
   "outputs": [
    {
     "name": "stdout",
     "output_type": "stream",
     "text": [
      "Starting brute force scanning...\n",
      "   0 | [ 1.    0.06  0.15 -0.75  0.09] |   0.686 |   0.686\n",
      "  25 | [ 1.    0.07  0.35 -0.75  0.1 ] |   0.375 |   0.348\n",
      "  50 | [ 6.    0.06  0.15 -0.75  0.11] |   0.368 |   0.333\n",
      "  75 | [ 6.    0.06  0.55 -0.5   0.09] |   0.906 |   0.322\n",
      " 100 | [ 6.    0.07  0.45 -0.5   0.1 ] |   0.477 |   0.319\n",
      " 125 | [ 6.    0.08  0.35 -0.5   0.11] |   0.343 |   0.309\n",
      "Brute force params:[ 6.    0.08  0.55 -0.75  0.11]\n",
      "Starting local scanning...\n",
      " 150 | [ 5.64888    0.0833824  0.573254  -0.78171    0.108614 ] |   0.297 |   0.296\n",
      " 175 | [ 3.87669652  0.07421912  0.69722376 -0.94871253  0.10979362] |   0.260 |   0.255\n",
      " 200 | [ 3.42185885  0.0737049   0.70779414 -0.99014842  0.10945247] |   0.254 |   0.254\n",
      " 225 | [ 3.16111772  0.07772913  0.69951747 -0.9965878   0.10932181] |   0.253 |   0.253\n",
      " 250 | [ 3.18799997  0.08913844  0.74219441 -0.99916322  0.10722288] |   0.250 |   0.250\n",
      " 275 | [ 2.69433139  0.10893622  0.76109882 -0.98717646  0.10562053] |   0.248 |   0.248\n",
      " 300 | [ 2.5850523   0.11268947  0.76282658 -0.98600566  0.10534097] |   0.248 |   0.248\n",
      " 325 | [ 2.59083669  0.11182262  0.76094796 -0.99550845  0.10522628] |   0.248 |   0.248\n",
      " 350 | [ 2.59659374  0.10980292  0.75509973 -0.99960257  0.10544248] |   0.248 |   0.248\n",
      " 375 | [ 2.59585153  0.10992057  0.75542111 -0.99978221  0.10542035] |   0.248 |   0.248\n",
      " 400 | [ 2.59599218  0.10989249  0.75534263 -0.99978201  0.10542465] |   0.248 |   0.248\n",
      " 425 | [ 2.59596462  0.1098958   0.75535024 -0.99976245  0.10542467] |   0.248 |   0.248\n",
      " 450 | [ 2.59586052  0.1099088   0.7553828  -0.99977975  0.10542237] |   0.248 |   0.248\n",
      " 475 | [ 2.59568533  0.10992593  0.75542313 -0.99983093  0.10541872] |   0.248 |   0.248\n",
      " 500 | [ 2.59560582  0.10994946  0.75549328 -0.99991473  0.10541291] |   0.248 |   0.248\n",
      " 525 | [ 2.59557139  0.10996351  0.75553628 -0.99995677  0.10540961] |   0.248 |   0.248\n",
      " 550 | [ 2.59552218  0.10997864  0.75558129 -0.99999805  0.10540619] |   0.248 |   0.248\n",
      "Optimization terminated successfully.\n",
      "         Current function value: 0.247873\n",
      "         Iterations: 325\n",
      "         Function evaluations: 595\n"
     ]
    }
   ],
   "source": [
    "# Reset global variables for this calibration\n",
    "i = 0\n",
    "min_MSE = MAX_MSE_H93  # Initiate to highest value.\n",
    "\n",
    "print(\"Starting brute force scanning...\")\n",
    "p0 = brute(\n",
    "    H93_Lewis_error_function,\n",
    "    (\n",
    "        (1, 10.1, 5.0),  # kappa_v\n",
    "        (0.06, 0.08, 0.01),  # theta_v\n",
    "        (0.15, 0.65, 0.1),  # sigma_v\n",
    "        (-0.75, -0.25, 0.25),  # rho\n",
    "        (0.09, 0.11, 0.01),\n",
    "    ),  # v0\n",
    "    finish=None,\n",
    ")\n",
    "print(f\"Brute force params:{p0}\")\n",
    "print(\"Starting local scanning...\")\n",
    "# second run with local, convex minimization\n",
    "# (dig deeper where promising)\n",
    "opt_params_lewis = fmin(\n",
    "    H93_Lewis_error_function,\n",
    "    p0,\n",
    "    xtol=0.000001,\n",
    "    ftol=0.000001,\n",
    "    maxiter=1200,\n",
    "    maxfun=1500,\n",
    ")\n",
    "np.save(\"H93_Lewis_calibration_full_saved_params\", np.array(opt_params_lewis))"
   ]
  },
  {
   "cell_type": "code",
   "execution_count": 13,
   "id": "f4f99a5b",
   "metadata": {},
   "outputs": [
    {
     "name": "stdout",
     "output_type": "stream",
     "text": [
      "H93 Lewis(2001) params:\n",
      "Κ_V:2.6\n",
      "Θ_V:0.11\n",
      "σ_V:0.76\n",
      "ρ:-1.0\n",
      "v_0:0.11\n"
     ]
    }
   ],
   "source": [
    "print(\"H93 Lewis(2001) params:\")\n",
    "print(f\"Κ_V:{round(opt_params_lewis[KAPPA_V],2)}\")\n",
    "print(f\"Θ_V:{round(opt_params_lewis[THETA_V],2)}\")\n",
    "print(f\"σ_V:{round(opt_params_lewis[SIGMA_V],2)}\")\n",
    "print(f\"ρ:{round(opt_params_lewis[RHO],2)}\")\n",
    "print(f\"v_0:{round(opt_params_lewis[V_0],2)}\")"
   ]
  },
  {
   "cell_type": "code",
   "execution_count": 14,
   "id": "7e2493de",
   "metadata": {},
   "outputs": [],
   "source": [
    "options_filtered[\"ModelLewis\"] = H93_Lewis_calculate_model_values(opt_params_lewis)"
   ]
  },
  {
   "cell_type": "code",
   "execution_count": 15,
   "id": "4168fb31",
   "metadata": {},
   "outputs": [
    {
     "data": {
      "text/plain": [
       "-0.3354753949201825"
      ]
     },
     "execution_count": 15,
     "metadata": {},
     "output_type": "execute_result"
    }
   ],
   "source": [
    "np.sum(options_filtered[\"ModelLewis\"] - options_filtered[\"Price\"])"
   ]
  },
  {
   "cell_type": "code",
   "execution_count": 16,
   "id": "e06dd213",
   "metadata": {},
   "outputs": [
    {
     "data": {
      "text/plain": [
       "1.9034204682361544"
      ]
     },
     "execution_count": 16,
     "metadata": {},
     "output_type": "execute_result"
    }
   ],
   "source": [
    "np.sum(abs(options_filtered[\"ModelLewis\"] - options_filtered[\"Price\"]))"
   ]
  },
  {
   "cell_type": "code",
   "execution_count": 17,
   "id": "63a47d8a",
   "metadata": {},
   "outputs": [
    {
     "data": {
      "image/png": "[encoded data removed]",
      "text/plain": [
       "<Figure size 720x432 with 1 Axes>"
      ]
     },
     "metadata": {},
     "output_type": "display_data"
    }
   ],
   "source": [
    "fig, ax = plt.subplots(1, 1)\n",
    "options_filtered.plot(x=\"Strike\", y=\"Price\", style=\"bo-\", lw=1.5, legend=True, ax=ax)\n",
    "options_filtered.plot(x=\"Strike\", y=\"ModelLewis\", style=\"ro--\", legend=True, ax=ax)\n",
    "plt.xlabel(\"strike\")\n",
    "plt.ylabel(\"option values\")\n",
    "plt.title(\"H93 Lewis(2001) model vs market 15-days maturity\")\n",
    "plt.tight_layout()\n",
    "plt.savefig(\"H93_Lewis_calibration_quotes.pdf\")"
   ]
  },
  {
   "cell_type": "markdown",
   "id": "5a8da8df",
   "metadata": {},
   "source": [
    "#### Obtain put prices using put-call parity using call prices obtained above\n",
    "\n",
    "Put call parity equation is:\n",
    "\n",
    "$$c + K e^{-rt} = S_0 + p$$"
   ]
  },
  {
   "cell_type": "code",
   "execution_count": 18,
   "id": "7471cdf5",
   "metadata": {},
   "outputs": [
    {
     "name": "stdout",
     "output_type": "stream",
     "text": [
      "Put prices using put-call parity:\n",
      "Strike: $227.50, Price: $5.02\n",
      "Strike: $230.00, Price: $5.95\n",
      "Strike: $232.50, Price: $7.01\n",
      "Strike: $235.00, Price: $8.20\n",
      "Strike: $237.50, Price: $9.52\n"
     ]
    }
   ],
   "source": [
    "print(\"Put prices using put-call parity:\")\n",
    "for row, option in options_filtered.iterrows():\n",
    "    print(\n",
    "        f'Strike: ${option[\"Strike\"]:.2f}, Price: ${option[\"ModelLewis\"] + option[\"Strike\"] * exp(-option[\"r\"]*option[\"T\"])-S0:.2f}'\n",
    "    )"
   ]
  },
  {
   "cell_type": "markdown",
   "id": "a9d5fb87",
   "metadata": {},
   "source": [
    "## Calibration with Carr-Madan (1999)"
   ]
  },
  {
   "cell_type": "code",
   "execution_count": 19,
   "id": "85bef9e7",
   "metadata": {},
   "outputs": [
    {
     "name": "stdout",
     "output_type": "stream",
     "text": [
      "Starting brute force scanning...\n",
      "   0 | [ 5.    0.08  0.6  -0.75  0.01] |   9.112 |   9.112\n",
      "  25 | [ 5.    0.09  0.7  -0.75  0.02] |  20.156 |   9.048\n",
      "  50 | [ 5.    0.1   0.7  -0.75  0.03] |  30.194 |   9.048\n",
      "  75 | [ 5.    0.11  0.7  -0.75  0.04] |  38.743 |   9.048\n",
      " 100 | [ 5.    0.12  0.7  -0.75  0.05] |  45.875 |   9.048\n",
      " 125 | [ 5.    0.13  0.7  -0.75  0.06] |  51.778 |   9.048\n",
      " 150 | [ 5.    0.14  0.8  -0.75  0.01] |  17.972 |   9.048\n",
      " 175 | [10.    0.08  0.8  -0.75  0.02] |  25.498 |   9.048\n",
      " 200 | [10.    0.09  0.8  -0.75  0.03] |  34.810 |   9.048\n",
      " 225 | [10.    0.1   0.8  -0.75  0.04] |  42.677 |   9.048\n",
      " 250 | [10.    0.11  0.8  -0.75  0.05] |  49.227 |   9.048\n",
      " 275 | [10.    0.12  0.8  -0.75  0.06] |  54.647 |   9.048\n",
      " 300 | [10.    0.13  0.9  -0.75  0.01] |  29.947 |   9.048\n",
      " 325 | [10.    0.14  0.9  -0.75  0.02] |  38.763 |   9.048\n",
      "Brute force params:[ 5.    0.08  0.8  -0.75  0.01]\n",
      "Starting local scanning...\n",
      " 350 | [ 5.16579557  0.0681947   0.83362048 -0.77088488  0.00966416] |   7.312 |   7.312\n",
      " 375 | [ 5.87454978  0.03957792  0.66633757 -0.95142945  0.0069327 ] |   2.603 |   1.331\n",
      " 400 | [ 6.20491594e+00  3.43445413e-02  6.30918932e-01 -9.80969688e-01\n",
      "  3.14375939e-03] |   0.333 |   0.333\n",
      " 425 | [ 6.25533079e+00  3.43044915e-02  6.29133878e-01 -9.81028565e-01\n",
      "  2.22997980e-03] |   0.226 |   0.224\n",
      " 450 | [ 6.22785354e+00  3.20994039e-02  6.20114847e-01 -9.93371974e-01\n",
      "  2.48342162e-03] |   0.218 |   0.218\n",
      " 475 | [ 6.20591128e+00  3.09755700e-02  6.16074999e-01 -9.99296718e-01\n",
      "  2.73614451e-03] |   0.215 |   0.214\n",
      " 500 | [ 6.18771204e+00  3.06677565e-02  6.15794959e-01 -9.99809200e-01\n",
      "  2.81917070e-03] |   0.214 |   0.214\n",
      " 525 | [ 6.18686452e+00  3.06381969e-02  6.15703281e-01 -9.99925872e-01\n",
      "  2.82629243e-03] |   0.214 |   0.214\n",
      " 550 | [ 6.18715614e+00  3.06311685e-02  6.15658015e-01 -9.99989520e-01\n",
      "  2.82354346e-03] |   0.214 |   0.214\n",
      " 575 | [ 6.18714996e+00  3.06304433e-02  6.15653961e-01 -9.99999405e-01\n",
      "  2.82234876e-03] |   0.214 |   0.214\n",
      "Optimization terminated successfully.\n",
      "         Current function value: 0.214255\n",
      "         Iterations: 210\n",
      "         Function evaluations: 374\n"
     ]
    }
   ],
   "source": [
    "# Reset global variables for this calibration\n",
    "i = 0\n",
    "min_MSE = MAX_MSE_H93  # Initiate to highest value.\n",
    "\n",
    "print(\"Starting brute force scanning...\")\n",
    "p0 = brute(\n",
    "    H93_CM99_error_function,\n",
    "    (\n",
    "        (5, 10.1, 5.0),  # kappa_v\n",
    "        (0.08, 0.14, 0.01),  # theta_v\n",
    "        (0.6, 0.9, 0.1),  # sigma_v\n",
    "        (-0.75, -0.5, 0.25),  # rho\n",
    "        (0.01, 0.07, 0.01),\n",
    "    ),  # v0\n",
    "    finish=None,\n",
    ")\n",
    "print(f\"Brute force params:{p0}\")\n",
    "print(\"Starting local scanning...\")\n",
    "# second run with local, convex minimization\n",
    "# (dig deeper where promising)\n",
    "opt_params_cm99 = fmin(\n",
    "    H93_CM99_error_function, p0, xtol=0.00001, ftol=0.00001, maxiter=1500, maxfun=1700\n",
    ")\n",
    "np.save(\"H93_CM99_calibration_full_saved_params\", np.array(opt_params_cm99))"
   ]
  },
  {
   "cell_type": "code",
   "execution_count": 20,
   "id": "2624069b",
   "metadata": {},
   "outputs": [
    {
     "name": "stdout",
     "output_type": "stream",
     "text": [
      "H93 Carr-Madan(2001) params:\n",
      "Κ_V:6.1871\n",
      "Θ_V:0.0306\n",
      "σ_V:0.6157\n",
      "ρ:-1.0\n",
      "v_0:0.0028\n"
     ]
    }
   ],
   "source": [
    "print(\"H93 Carr-Madan(2001) params:\")\n",
    "print(f\"Κ_V:{round(opt_params_cm99[KAPPA_V],4)}\")\n",
    "print(f\"Θ_V:{round(opt_params_cm99[THETA_V],4)}\")\n",
    "print(f\"σ_V:{round(opt_params_cm99[SIGMA_V],4)}\")\n",
    "print(f\"ρ:{round(opt_params_cm99[RHO],4)}\")\n",
    "print(f\"v_0:{round(opt_params_cm99[V_0],4)}\")"
   ]
  },
  {
   "cell_type": "code",
   "execution_count": 21,
   "id": "6bed275d",
   "metadata": {},
   "outputs": [],
   "source": [
    "options_filtered[\"ModelCM99\"] = H93_CM99_calculate_model_values(opt_params_cm99)"
   ]
  },
  {
   "cell_type": "code",
   "execution_count": 22,
   "id": "8d2b31e0",
   "metadata": {},
   "outputs": [
    {
     "data": {
      "text/plain": [
       "-0.07478811103847782"
      ]
     },
     "execution_count": 22,
     "metadata": {},
     "output_type": "execute_result"
    }
   ],
   "source": [
    "np.sum(options_filtered[\"ModelCM99\"] - options_filtered[\"Price\"])"
   ]
  },
  {
   "cell_type": "code",
   "execution_count": 23,
   "id": "a4be1ff1",
   "metadata": {},
   "outputs": [
    {
     "data": {
      "text/plain": [
       "1.81268205026627"
      ]
     },
     "execution_count": 23,
     "metadata": {},
     "output_type": "execute_result"
    }
   ],
   "source": [
    "np.sum(abs(options_filtered[\"ModelCM99\"] - options_filtered[\"Price\"]))"
   ]
  },
  {
   "cell_type": "code",
   "execution_count": 24,
   "id": "51eb3c2c",
   "metadata": {},
   "outputs": [
    {
     "data": {
      "image/png": "[encoded data removed]",
      "text/plain": [
       "<Figure size 720x432 with 1 Axes>"
      ]
     },
     "metadata": {},
     "output_type": "display_data"
    }
   ],
   "source": [
    "fig, ax = plt.subplots(1, 1)\n",
    "options_filtered.plot(x=\"Strike\", y=\"Price\", style=\"bo-\", lw=1.5, legend=True, ax=ax)\n",
    "options_filtered.plot(x=\"Strike\", y=\"ModelCM99\", style=\"ro--\", legend=True, ax=ax)\n",
    "options_filtered.plot(x=\"Strike\", y=\"ModelLewis\", style=\"go--\", legend=True, ax=ax)\n",
    "plt.xlabel(\"strike\")\n",
    "plt.ylabel(\"option values\")\n",
    "plt.title(\"H93 calibrated models vs market 15-days maturity\")\n",
    "plt.tight_layout()\n",
    "plt.savefig(\"H93_CM99_calibration_quotes.pdf\")"
   ]
  },
  {
   "cell_type": "markdown",
   "id": "3959bda2",
   "metadata": {},
   "source": [
    "Option market and Heston model prices:"
   ]
  },
  {
   "cell_type": "code",
   "execution_count": 25,
   "id": "9dce7ec7",
   "metadata": {},
   "outputs": [
    {
     "data": {
      "text/html": [
       "<div>\n",
       "<style scoped>\n",
       "    .dataframe tbody tr th:only-of-type {\n",
       "        vertical-align: middle;\n",
       "    }\n",
       "\n",
       "    .dataframe tbody tr th {\n",
       "        vertical-align: top;\n",
       "    }\n",
       "\n",
       "    .dataframe thead th {\n",
       "        text-align: right;\n",
       "    }\n",
       "</style>\n",
       "<table border=\"1\" class=\"dataframe\">\n",
       "  <thead>\n",
       "    <tr style=\"text-align: right;\">\n",
       "      <th></th>\n",
       "      <th>Days to maturity</th>\n",
       "      <th>Strike</th>\n",
       "      <th>Price</th>\n",
       "      <th>Type</th>\n",
       "      <th>T</th>\n",
       "      <th>r</th>\n",
       "      <th>ModelLewis</th>\n",
       "      <th>ModelCM99</th>\n",
       "      <th>ModelLewis%Diff</th>\n",
       "      <th>ModelCM99%Diff</th>\n",
       "    </tr>\n",
       "  </thead>\n",
       "  <tbody>\n",
       "    <tr>\n",
       "      <th>0</th>\n",
       "      <td>15</td>\n",
       "      <td>227.5</td>\n",
       "      <td>10.52</td>\n",
       "      <td>C</td>\n",
       "      <td>0.06</td>\n",
       "      <td>0.015</td>\n",
       "      <td>10.626295</td>\n",
       "      <td>10.703213</td>\n",
       "      <td>-0.010104</td>\n",
       "      <td>-0.017416</td>\n",
       "    </tr>\n",
       "    <tr>\n",
       "      <th>1</th>\n",
       "      <td>15</td>\n",
       "      <td>230.0</td>\n",
       "      <td>10.05</td>\n",
       "      <td>C</td>\n",
       "      <td>0.06</td>\n",
       "      <td>0.015</td>\n",
       "      <td>9.061053</td>\n",
       "      <td>9.155532</td>\n",
       "      <td>0.098403</td>\n",
       "      <td>0.089002</td>\n",
       "    </tr>\n",
       "    <tr>\n",
       "      <th>2</th>\n",
       "      <td>15</td>\n",
       "      <td>232.5</td>\n",
       "      <td>7.75</td>\n",
       "      <td>C</td>\n",
       "      <td>0.06</td>\n",
       "      <td>0.015</td>\n",
       "      <td>7.619499</td>\n",
       "      <td>7.700733</td>\n",
       "      <td>0.016839</td>\n",
       "      <td>0.006357</td>\n",
       "    </tr>\n",
       "    <tr>\n",
       "      <th>3</th>\n",
       "      <td>15</td>\n",
       "      <td>235.0</td>\n",
       "      <td>6.01</td>\n",
       "      <td>C</td>\n",
       "      <td>0.06</td>\n",
       "      <td>0.015</td>\n",
       "      <td>6.307618</td>\n",
       "      <td>6.346148</td>\n",
       "      <td>-0.049521</td>\n",
       "      <td>-0.055931</td>\n",
       "    </tr>\n",
       "    <tr>\n",
       "      <th>4</th>\n",
       "      <td>15</td>\n",
       "      <td>237.5</td>\n",
       "      <td>4.75</td>\n",
       "      <td>C</td>\n",
       "      <td>0.06</td>\n",
       "      <td>0.015</td>\n",
       "      <td>5.130059</td>\n",
       "      <td>5.099586</td>\n",
       "      <td>-0.080013</td>\n",
       "      <td>-0.073597</td>\n",
       "    </tr>\n",
       "  </tbody>\n",
       "</table>\n",
       "</div>"
      ],
      "text/plain": [
       "   Days to maturity  Strike  Price Type     T      r  ModelLewis  ModelCM99  \\\n",
       "0                15   227.5  10.52    C  0.06  0.015   10.626295  10.703213   \n",
       "1                15   230.0  10.05    C  0.06  0.015    9.061053   9.155532   \n",
       "2                15   232.5   7.75    C  0.06  0.015    7.619499   7.700733   \n",
       "3                15   235.0   6.01    C  0.06  0.015    6.307618   6.346148   \n",
       "4                15   237.5   4.75    C  0.06  0.015    5.130059   5.099586   \n",
       "\n",
       "   ModelLewis%Diff  ModelCM99%Diff  \n",
       "0        -0.010104       -0.017416  \n",
       "1         0.098403        0.089002  \n",
       "2         0.016839        0.006357  \n",
       "3        -0.049521       -0.055931  \n",
       "4        -0.080013       -0.073597  "
      ]
     },
     "execution_count": 25,
     "metadata": {},
     "output_type": "execute_result"
    }
   ],
   "source": [
    "options_filtered[\"ModelLewis%Diff\"] = 1 - (\n",
    "    options_filtered[\"ModelLewis\"] / options_filtered[\"Price\"]\n",
    ")\n",
    "options_filtered[\"ModelCM99%Diff\"] = 1 - (\n",
    "    options_filtered[\"ModelCM99\"] / options_filtered[\"Price\"]\n",
    ")\n",
    "options_filtered"
   ]
  },
  {
   "cell_type": "markdown",
   "id": "452fc615",
   "metadata": {},
   "source": [
    "### Obtain put prices using put-call parity using call prices obtained above"
   ]
  },
  {
   "cell_type": "markdown",
   "id": "68894abc",
   "metadata": {},
   "source": [
    "Put call parity equation is:\n",
    "\n",
    "$$c + K e^{-rt} = S_0 + p$$\n"
   ]
  },
  {
   "cell_type": "code",
   "execution_count": 26,
   "id": "bef64d4b",
   "metadata": {},
   "outputs": [
    {
     "name": "stdout",
     "output_type": "stream",
     "text": [
      "Put prices using put-call parity:\n",
      "Strike: $227.50, Price: $5.02\n",
      "Strike: $230.00, Price: $5.95\n",
      "Strike: $232.50, Price: $7.01\n",
      "Strike: $235.00, Price: $8.20\n",
      "Strike: $237.50, Price: $9.52\n"
     ]
    }
   ],
   "source": [
    "print(\"Put prices using put-call parity:\")\n",
    "for row, option in options_filtered.iterrows():\n",
    "    print(\n",
    "        f'Strike: ${option[\"Strike\"]:.2f}, Price: ${option[\"ModelLewis\"] + option[\"Strike\"] * exp(-option[\"r\"]*option[\"T\"])-S0:.2f}'\n",
    "    )"
   ]
  },
  {
   "cell_type": "markdown",
   "id": "9f113c4a",
   "metadata": {},
   "source": [
    "## Calibration with Carr-Madan (1999)"
   ]
  },
  {
   "cell_type": "code",
   "execution_count": 27,
   "id": "43b5dc83",
   "metadata": {},
   "outputs": [
    {
     "name": "stdout",
     "output_type": "stream",
     "text": [
      "Starting brute force scanning...\n",
      "   0 | [ 5.    0.08  0.6  -0.75  0.01] |   9.112 |   9.112\n",
      "  25 | [ 5.    0.09  0.7  -0.75  0.02] |  20.156 |   9.048\n",
      "  50 | [ 5.    0.1   0.7  -0.75  0.03] |  30.194 |   9.048\n",
      "  75 | [ 5.    0.11  0.7  -0.75  0.04] |  38.743 |   9.048\n",
      " 100 | [ 5.    0.12  0.7  -0.75  0.05] |  45.875 |   9.048\n",
      " 125 | [ 5.    0.13  0.7  -0.75  0.06] |  51.778 |   9.048\n",
      " 150 | [ 5.    0.14  0.8  -0.75  0.01] |  17.972 |   9.048\n",
      " 175 | [10.    0.08  0.8  -0.75  0.02] |  25.498 |   9.048\n",
      " 200 | [10.    0.09  0.8  -0.75  0.03] |  34.810 |   9.048\n",
      " 225 | [10.    0.1   0.8  -0.75  0.04] |  42.677 |   9.048\n",
      " 250 | [10.    0.11  0.8  -0.75  0.05] |  49.227 |   9.048\n",
      " 275 | [10.    0.12  0.8  -0.75  0.06] |  54.647 |   9.048\n",
      " 300 | [10.    0.13  0.9  -0.75  0.01] |  29.947 |   9.048\n",
      " 325 | [10.    0.14  0.9  -0.75  0.02] |  38.763 |   9.048\n",
      "Brute force params:[ 5.    0.08  0.8  -0.75  0.01]\n",
      "Starting local scanning...\n",
      " 350 | [ 5.16579557  0.0681947   0.83362048 -0.77088488  0.00966416] |   7.312 |   7.312\n",
      " 375 | [ 5.87454978  0.03957792  0.66633757 -0.95142945  0.0069327 ] |   2.603 |   1.331\n",
      " 400 | [ 6.20491594e+00  3.43445413e-02  6.30918932e-01 -9.80969688e-01\n",
      "  3.14375939e-03] |   0.333 |   0.333\n",
      " 425 | [ 6.25533079e+00  3.43044915e-02  6.29133878e-01 -9.81028565e-01\n",
      "  2.22997980e-03] |   0.226 |   0.224\n",
      " 450 | [ 6.22785354e+00  3.20994039e-02  6.20114847e-01 -9.93371974e-01\n",
      "  2.48342162e-03] |   0.218 |   0.218\n",
      " 475 | [ 6.20591128e+00  3.09755700e-02  6.16074999e-01 -9.99296718e-01\n",
      "  2.73614451e-03] |   0.215 |   0.214\n",
      " 500 | [ 6.18771204e+00  3.06677565e-02  6.15794959e-01 -9.99809200e-01\n",
      "  2.81917070e-03] |   0.214 |   0.214\n",
      " 525 | [ 6.18686452e+00  3.06381969e-02  6.15703281e-01 -9.99925872e-01\n",
      "  2.82629243e-03] |   0.214 |   0.214\n",
      " 550 | [ 6.18715614e+00  3.06311685e-02  6.15658015e-01 -9.99989520e-01\n",
      "  2.82354346e-03] |   0.214 |   0.214\n",
      " 575 | [ 6.18714996e+00  3.06304433e-02  6.15653961e-01 -9.99999405e-01\n",
      "  2.82234876e-03] |   0.214 |   0.214\n",
      "Optimization terminated successfully.\n",
      "         Current function value: 0.214255\n",
      "         Iterations: 210\n",
      "         Function evaluations: 374\n"
     ]
    }
   ],
   "source": [
    "# Reset global variables for this calibration\n",
    "i = 0\n",
    "min_MSE = MAX_MSE_H93  # Initiate to highest value.\n",
    "\n",
    "print(\"Starting brute force scanning...\")\n",
    "p0 = brute(\n",
    "    H93_CM99_error_function,\n",
    "    (\n",
    "        (5, 10.1, 5.0),  # kappa_v\n",
    "        (0.08, 0.14, 0.01),  # theta_v\n",
    "        (0.6, 0.9, 0.1),  # sigma_v\n",
    "        (-0.75, -0.5, 0.25),  # rho\n",
    "        (0.01, 0.07, 0.01),\n",
    "    ),  # v0\n",
    "    finish=None,\n",
    ")\n",
    "print(f\"Brute force params:{p0}\")\n",
    "print(\"Starting local scanning...\")\n",
    "# second run with local, convex minimization\n",
    "# (dig deeper where promising)\n",
    "opt_params_cm99 = fmin(\n",
    "    H93_CM99_error_function, p0, xtol=0.00001, ftol=0.00001, maxiter=1500, maxfun=1700\n",
    ")\n",
    "np.save(\"H93_CM99_calibration_full_saved_params\", np.array(opt_params_cm99))"
   ]
  },
  {
   "cell_type": "code",
   "execution_count": 28,
   "id": "d6b6cf1b",
   "metadata": {},
   "outputs": [
    {
     "name": "stdout",
     "output_type": "stream",
     "text": [
      "H93 Carr-Madan(2001) params:\n",
      "Κ_V:6.1871\n",
      "Θ_V:0.0306\n",
      "σ_V:0.6157\n",
      "ρ:-1.0\n",
      "v_0:0.0028\n"
     ]
    }
   ],
   "source": [
    "print(\"H93 Carr-Madan(2001) params:\")\n",
    "print(f\"Κ_V:{round(opt_params_cm99[KAPPA_V],4)}\")\n",
    "print(f\"Θ_V:{round(opt_params_cm99[THETA_V],4)}\")\n",
    "print(f\"σ_V:{round(opt_params_cm99[SIGMA_V],4)}\")\n",
    "print(f\"ρ:{round(opt_params_cm99[RHO],4)}\")\n",
    "print(f\"v_0:{round(opt_params_cm99[V_0],4)}\")"
   ]
  },
  {
   "cell_type": "code",
   "execution_count": 29,
   "id": "6b3a4ebf",
   "metadata": {},
   "outputs": [],
   "source": [
    "options_filtered[\"ModelCM99\"] = H93_CM99_calculate_model_values(opt_params_cm99)"
   ]
  },
  {
   "cell_type": "code",
   "execution_count": 30,
   "id": "69f00dcd",
   "metadata": {},
   "outputs": [
    {
     "data": {
      "text/plain": [
       "-0.07478811103847782"
      ]
     },
     "execution_count": 30,
     "metadata": {},
     "output_type": "execute_result"
    }
   ],
   "source": [
    "np.sum(options_filtered[\"ModelCM99\"] - options_filtered[\"Price\"])"
   ]
  },
  {
   "cell_type": "code",
   "execution_count": 31,
   "id": "3114c30a",
   "metadata": {},
   "outputs": [
    {
     "data": {
      "text/plain": [
       "1.81268205026627"
      ]
     },
     "execution_count": 31,
     "metadata": {},
     "output_type": "execute_result"
    }
   ],
   "source": [
    "np.sum(abs(options_filtered[\"ModelCM99\"] - options_filtered[\"Price\"]))"
   ]
  },
  {
   "cell_type": "code",
   "execution_count": 32,
   "id": "902ff59a",
   "metadata": {},
   "outputs": [
    {
     "data": {
      "image/png": "[encoded data removed]",
      "text/plain": [
       "<Figure size 720x432 with 1 Axes>"
      ]
     },
     "metadata": {},
     "output_type": "display_data"
    }
   ],
   "source": [
    "fig, ax = plt.subplots(1, 1)\n",
    "options_filtered.plot(x=\"Strike\", y=\"Price\", style=\"bo-\", lw=1.5, legend=True, ax=ax)\n",
    "options_filtered.plot(x=\"Strike\", y=\"ModelCM99\", style=\"ro--\", legend=True, ax=ax)\n",
    "options_filtered.plot(x=\"Strike\", y=\"ModelLewis\", style=\"go--\", legend=True, ax=ax)\n",
    "plt.xlabel(\"strike\")\n",
    "plt.ylabel(\"option values\")\n",
    "plt.title(\"H93 calibrated models vs market 15-days maturity\")\n",
    "plt.tight_layout()\n",
    "plt.savefig(\"H93_CM99_calibration_quotes.pdf\")"
   ]
  },
  {
   "cell_type": "markdown",
   "id": "ca04be83",
   "metadata": {},
   "source": [
    "Option market and Heston model prices:"
   ]
  },
  {
   "cell_type": "code",
   "execution_count": 33,
   "id": "031acb43",
   "metadata": {},
   "outputs": [
    {
     "data": {
      "text/html": [
       "<div>\n",
       "<style scoped>\n",
       "    .dataframe tbody tr th:only-of-type {\n",
       "        vertical-align: middle;\n",
       "    }\n",
       "\n",
       "    .dataframe tbody tr th {\n",
       "        vertical-align: top;\n",
       "    }\n",
       "\n",
       "    .dataframe thead th {\n",
       "        text-align: right;\n",
       "    }\n",
       "</style>\n",
       "<table border=\"1\" class=\"dataframe\">\n",
       "  <thead>\n",
       "    <tr style=\"text-align: right;\">\n",
       "      <th></th>\n",
       "      <th>Days to maturity</th>\n",
       "      <th>Strike</th>\n",
       "      <th>Price</th>\n",
       "      <th>Type</th>\n",
       "      <th>T</th>\n",
       "      <th>r</th>\n",
       "      <th>ModelLewis</th>\n",
       "      <th>ModelCM99</th>\n",
       "      <th>ModelLewis%Diff</th>\n",
       "      <th>ModelCM99%Diff</th>\n",
       "    </tr>\n",
       "  </thead>\n",
       "  <tbody>\n",
       "    <tr>\n",
       "      <th>0</th>\n",
       "      <td>15</td>\n",
       "      <td>227.5</td>\n",
       "      <td>10.52</td>\n",
       "      <td>C</td>\n",
       "      <td>0.06</td>\n",
       "      <td>0.015</td>\n",
       "      <td>10.626295</td>\n",
       "      <td>10.703213</td>\n",
       "      <td>-0.010104</td>\n",
       "      <td>-0.017416</td>\n",
       "    </tr>\n",
       "    <tr>\n",
       "      <th>1</th>\n",
       "      <td>15</td>\n",
       "      <td>230.0</td>\n",
       "      <td>10.05</td>\n",
       "      <td>C</td>\n",
       "      <td>0.06</td>\n",
       "      <td>0.015</td>\n",
       "      <td>9.061053</td>\n",
       "      <td>9.155532</td>\n",
       "      <td>0.098403</td>\n",
       "      <td>0.089002</td>\n",
       "    </tr>\n",
       "    <tr>\n",
       "      <th>2</th>\n",
       "      <td>15</td>\n",
       "      <td>232.5</td>\n",
       "      <td>7.75</td>\n",
       "      <td>C</td>\n",
       "      <td>0.06</td>\n",
       "      <td>0.015</td>\n",
       "      <td>7.619499</td>\n",
       "      <td>7.700733</td>\n",
       "      <td>0.016839</td>\n",
       "      <td>0.006357</td>\n",
       "    </tr>\n",
       "    <tr>\n",
       "      <th>3</th>\n",
       "      <td>15</td>\n",
       "      <td>235.0</td>\n",
       "      <td>6.01</td>\n",
       "      <td>C</td>\n",
       "      <td>0.06</td>\n",
       "      <td>0.015</td>\n",
       "      <td>6.307618</td>\n",
       "      <td>6.346148</td>\n",
       "      <td>-0.049521</td>\n",
       "      <td>-0.055931</td>\n",
       "    </tr>\n",
       "    <tr>\n",
       "      <th>4</th>\n",
       "      <td>15</td>\n",
       "      <td>237.5</td>\n",
       "      <td>4.75</td>\n",
       "      <td>C</td>\n",
       "      <td>0.06</td>\n",
       "      <td>0.015</td>\n",
       "      <td>5.130059</td>\n",
       "      <td>5.099586</td>\n",
       "      <td>-0.080013</td>\n",
       "      <td>-0.073597</td>\n",
       "    </tr>\n",
       "  </tbody>\n",
       "</table>\n",
       "</div>"
      ],
      "text/plain": [
       "   Days to maturity  Strike  Price Type     T      r  ModelLewis  ModelCM99  \\\n",
       "0                15   227.5  10.52    C  0.06  0.015   10.626295  10.703213   \n",
       "1                15   230.0  10.05    C  0.06  0.015    9.061053   9.155532   \n",
       "2                15   232.5   7.75    C  0.06  0.015    7.619499   7.700733   \n",
       "3                15   235.0   6.01    C  0.06  0.015    6.307618   6.346148   \n",
       "4                15   237.5   4.75    C  0.06  0.015    5.130059   5.099586   \n",
       "\n",
       "   ModelLewis%Diff  ModelCM99%Diff  \n",
       "0        -0.010104       -0.017416  \n",
       "1         0.098403        0.089002  \n",
       "2         0.016839        0.006357  \n",
       "3        -0.049521       -0.055931  \n",
       "4        -0.080013       -0.073597  "
      ]
     },
     "execution_count": 33,
     "metadata": {},
     "output_type": "execute_result"
    }
   ],
   "source": [
    "options_filtered[\"ModelLewis%Diff\"] = 1 - (\n",
    "    options_filtered[\"ModelLewis\"] / options_filtered[\"Price\"]\n",
    ")\n",
    "options_filtered[\"ModelCM99%Diff\"] = 1 - (\n",
    "    options_filtered[\"ModelCM99\"] / options_filtered[\"Price\"]\n",
    ")\n",
    "options_filtered"
   ]
  },
  {
   "cell_type": "markdown",
   "id": "ad9604d2",
   "metadata": {},
   "source": [
    "### Obtain put prices using put-call parity using call prices obtained above\n",
    "\n",
    "Put call parity equation is:\n",
    "\n",
    "$$c + K e^{-rt} = S_0 + p$$\n"
   ]
  },
  {
   "cell_type": "code",
   "execution_count": 34,
   "id": "7652195c",
   "metadata": {},
   "outputs": [
    {
     "name": "stdout",
     "output_type": "stream",
     "text": [
      "Put prices using put-call parity:\n",
      "Strike: $227.50, Price: $5.10\n",
      "Strike: $230.00, Price: $6.05\n",
      "Strike: $232.50, Price: $7.09\n",
      "Strike: $235.00, Price: $8.23\n",
      "Strike: $237.50, Price: $9.49\n"
     ]
    }
   ],
   "source": [
    "print(\"Put prices using put-call parity:\")\n",
    "for row, option in options_filtered.iterrows():\n",
    "    print(\n",
    "        f'Strike: ${option[\"Strike\"]:.2f}, Price: ${option[\"ModelCM99\"] + option[\"Strike\"] * exp(-option[\"r\"]*option[\"T\"])-S0:.2f}'\n",
    "    )"
   ]
  },
  {
   "cell_type": "markdown",
   "id": "c7d4b5a7",
   "metadata": {},
   "source": [
    "## Monte Carlo pricing using calibrated model params\n",
    "\n",
    "Monte Carlo Asian option pricing using Lewis(2001) approach params:"
   ]
  },
  {
   "cell_type": "code",
   "execution_count": 35,
   "id": "b22cb79d",
   "metadata": {},
   "outputs": [
    {
     "name": "stdout",
     "output_type": "stream",
     "text": [
      "Pricing with Lewis(2001) params...\n",
      "\u001b[35mPricing Asian Call option using Monte Carlo simulation...\u001b[0m\n",
      "Option params: S0: 232.9, K:227.5, T:0.08, r:0.015, σ:0.7555821049398823\n",
      "Model params: ν0:0.10540607982148842, κ:2.5955106405758466, θ:0.10997919120620023, ρ:-0.9999998910848666\n",
      "\u001b[32m Asian option price using Heston model is \u001b[0m$5.94\n",
      "\u001b[35mPricing Asian Call option using Monte Carlo simulation...\u001b[0m\n",
      "Option params: S0: 232.9, K:230.0, T:0.08, r:0.015, σ:0.7555821049398823\n",
      "Model params: ν0:0.10540607982148842, κ:2.5955106405758466, θ:0.10997919120620023, ρ:-0.9999998910848666\n",
      "\u001b[32m Asian option price using Heston model is \u001b[0m$4.53\n",
      "\u001b[35mPricing Asian Call option using Monte Carlo simulation...\u001b[0m\n",
      "Option params: S0: 232.9, K:232.5, T:0.08, r:0.015, σ:0.7555821049398823\n",
      "Model params: ν0:0.10540607982148842, κ:2.5955106405758466, θ:0.10997919120620023, ρ:-0.9999998910848666\n",
      "\u001b[32m Asian option price using Heston model is \u001b[0m$3.36\n",
      "\u001b[35mPricing Asian Call option using Monte Carlo simulation...\u001b[0m\n",
      "Option params: S0: 232.9, K:235.0, T:0.08, r:0.015, σ:0.7555821049398823\n",
      "Model params: ν0:0.10540607982148842, κ:2.5955106405758466, θ:0.10997919120620023, ρ:-0.9999998910848666\n",
      "\u001b[32m Asian option price using Heston model is \u001b[0m$2.38\n",
      "\u001b[35mPricing Asian Call option using Monte Carlo simulation...\u001b[0m\n",
      "Option params: S0: 232.9, K:237.5, T:0.08, r:0.015, σ:0.7555821049398823\n",
      "Model params: ν0:0.10540607982148842, κ:2.5955106405758466, θ:0.10997919120620023, ρ:-0.9999998910848666\n",
      "\u001b[32m Asian option price using Heston model is \u001b[0m$1.6\n"
     ]
    }
   ],
   "source": [
    "T = 20 / NUMBER_OF_TRADING_DAYS\n",
    "\n",
    "print(\"Pricing with Lewis(2001) params...\")\n",
    "asian_option_lewis_mc = heston_model_mc_option_values(\n",
    "    opt_params_lewis, T, ASIAN_OPTION, CALL_OPTION\n",
    ")"
   ]
  },
  {
   "cell_type": "markdown",
   "id": "0e6c9a23",
   "metadata": {},
   "source": [
    "Asian call option price net of bank fees/commission: \\\n",
    "_Assignment does not provide a specific strike, so we apply fees and price all strikes from given data._ "
   ]
  },
  {
   "cell_type": "code",
   "execution_count": 36,
   "id": "96c4a382",
   "metadata": {},
   "outputs": [
    {
     "name": "stdout",
     "output_type": "stream",
     "text": [
      "Price of Asian call option strike $232.9 is $3.49\n",
      "Parameters used for pricing the option:\n",
      "S0:232.9\n",
      "S0:0.08\n",
      "S0:0.01\n",
      "Κ_V:2.6\n",
      "Θ_V:0.11\n",
      "σ_V:0.76\n",
      "ρ:-1.0\n",
      "v_0:0.11\n"
     ]
    }
   ],
   "source": [
    "print(\n",
    "    f\"Price of Asian call option strike $232.9 is ${(1 + BANK_COMMISSION) * asian_option_lewis_mc[2]:.2f}\"\n",
    ")\n",
    "print(\"Parameters used for pricing the option:\")\n",
    "print(f\"S0:{round(S0,2)}\")\n",
    "print(f\"S0:{round(T,2)}\")\n",
    "print(f\"S0:{round(r,2)}\")\n",
    "print(f\"Κ_V:{round(opt_params_lewis[KAPPA_V],2)}\")\n",
    "print(f\"Θ_V:{round(opt_params_lewis[THETA_V],2)}\")\n",
    "print(f\"σ_V:{round(opt_params_lewis[SIGMA_V],2)}\")\n",
    "print(f\"ρ:{round(opt_params_lewis[RHO],2)}\")\n",
    "print(f\"v_0:{round(opt_params_lewis[V_0],2)}\")"
   ]
  },
  {
   "cell_type": "markdown",
   "id": "2a8cb9f5",
   "metadata": {},
   "source": [
    "## Step 2:\n",
    "\n",
    "### Bates (1996) Model\n",
    "\n",
    "Set options maturity to match the instrument's maturity - 60 days for this part"
   ]
  },
  {
   "cell_type": "code",
   "execution_count": 37,
   "id": "e7c62939",
   "metadata": {},
   "outputs": [
    {
     "data": {
      "text/html": [
       "<div>\n",
       "<style scoped>\n",
       "    .dataframe tbody tr th:only-of-type {\n",
       "        vertical-align: middle;\n",
       "    }\n",
       "\n",
       "    .dataframe tbody tr th {\n",
       "        vertical-align: top;\n",
       "    }\n",
       "\n",
       "    .dataframe thead th {\n",
       "        text-align: right;\n",
       "    }\n",
       "</style>\n",
       "<table border=\"1\" class=\"dataframe\">\n",
       "  <thead>\n",
       "    <tr style=\"text-align: right;\">\n",
       "      <th></th>\n",
       "      <th>Days to maturity</th>\n",
       "      <th>Strike</th>\n",
       "      <th>Price</th>\n",
       "      <th>Type</th>\n",
       "      <th>T</th>\n",
       "      <th>r</th>\n",
       "    </tr>\n",
       "  </thead>\n",
       "  <tbody>\n",
       "    <tr>\n",
       "      <th>5</th>\n",
       "      <td>60</td>\n",
       "      <td>227.5</td>\n",
       "      <td>16.78</td>\n",
       "      <td>C</td>\n",
       "      <td>0.24</td>\n",
       "      <td>0.015</td>\n",
       "    </tr>\n",
       "    <tr>\n",
       "      <th>6</th>\n",
       "      <td>60</td>\n",
       "      <td>230.0</td>\n",
       "      <td>17.65</td>\n",
       "      <td>C</td>\n",
       "      <td>0.24</td>\n",
       "      <td>0.015</td>\n",
       "    </tr>\n",
       "    <tr>\n",
       "      <th>7</th>\n",
       "      <td>60</td>\n",
       "      <td>232.5</td>\n",
       "      <td>16.86</td>\n",
       "      <td>C</td>\n",
       "      <td>0.24</td>\n",
       "      <td>0.015</td>\n",
       "    </tr>\n",
       "    <tr>\n",
       "      <th>8</th>\n",
       "      <td>60</td>\n",
       "      <td>235.0</td>\n",
       "      <td>16.05</td>\n",
       "      <td>C</td>\n",
       "      <td>0.24</td>\n",
       "      <td>0.015</td>\n",
       "    </tr>\n",
       "    <tr>\n",
       "      <th>9</th>\n",
       "      <td>60</td>\n",
       "      <td>237.5</td>\n",
       "      <td>15.10</td>\n",
       "      <td>C</td>\n",
       "      <td>0.24</td>\n",
       "      <td>0.015</td>\n",
       "    </tr>\n",
       "  </tbody>\n",
       "</table>\n",
       "</div>"
      ],
      "text/plain": [
       "   Days to maturity  Strike  Price Type     T      r\n",
       "5                60   227.5  16.78    C  0.24  0.015\n",
       "6                60   230.0  17.65    C  0.24  0.015\n",
       "7                60   232.5  16.86    C  0.24  0.015\n",
       "8                60   235.0  16.05    C  0.24  0.015\n",
       "9                60   237.5  15.10    C  0.24  0.015"
      ]
     },
     "execution_count": 37,
     "metadata": {},
     "output_type": "execute_result"
    }
   ],
   "source": [
    "# Set options filter to matching maturity\n",
    "DAYS_TO_MATURITY = 60\n",
    "set_options_data_filter(DAYS_TO_MATURITY)\n",
    "options_filtered"
   ]
  },
  {
   "cell_type": "markdown",
   "id": "e75812fc",
   "metadata": {},
   "source": [
    "## Calibration with Heston(93) with Lewis (2001) params\n",
    "\n",
    "Here we will use params obtained after calibration of Heston(93) using Lewis(2001)"
   ]
  },
  {
   "cell_type": "code",
   "execution_count": 38,
   "id": "6185fb69",
   "metadata": {},
   "outputs": [
    {
     "name": "stdout",
     "output_type": "stream",
     "text": [
      "Starting brute force scanning...\n",
      "   0 | [ 5.    0.2   0.2  -0.75  0.01] |   6.566 |   6.566\n",
      "  25 | [ 5.    0.2   0.3  -0.5   0.02] |   4.878 |   1.343\n",
      "  50 | [ 5.    0.2   0.5  -0.75  0.03] |   4.000 |   1.343\n",
      "  75 | [ 5.    0.3   0.2  -0.5   0.04] |   3.932 |   1.343\n",
      " 100 | [ 5.    0.3   0.4  -0.75  0.05] |   4.865 |   1.343\n",
      " 125 | [ 5.    0.3   0.5  -0.5   0.06] |   6.069 |   1.343\n",
      " 150 | [10.    0.2   0.3  -0.75  0.07] |   4.298 |   1.343\n",
      " 175 | [10.    0.2   0.4  -0.5   0.08] |   5.037 |   1.343\n",
      " 200 | [10.    0.3   0.2  -0.5   0.01] |  16.536 |   1.343\n",
      " 225 | [10.    0.3   0.4  -0.75  0.02] |  17.589 |   1.343\n",
      " 250 | [10.    0.3   0.5  -0.5   0.03] |  19.108 |   1.343\n",
      "Brute force params:[ 5.    0.2   0.2  -0.5   0.07]\n",
      "Starting local scanning...\n",
      " 275 | [ 5.05409692  0.19653489  0.20287116 -0.51616989  0.06961884] |   1.331 |   1.329\n",
      " 300 | [ 5.31479717  0.19473435  0.20389272 -0.50256899  0.06633595] |   1.326 |   1.326\n",
      " 325 | [ 7.3176469   0.19078202  0.20495832 -0.37425119  0.04382138] |   1.305 |   1.299\n",
      " 350 | [20.93102264  0.18210632  0.21383582  0.47151545 -0.12464071] |   1.237 |   1.226\n",
      " 375 | [27.68785637  0.18119052  0.23114507  0.91847328 -0.21155812] |   1.219 |   1.215\n",
      " 400 | [28.89241478  0.17994657  0.23212911  0.99571004 -0.22688096] |   1.214 |   1.214\n",
      " 425 | [27.2016227   0.18225197  0.26050434  0.94610556 -0.21593299] |   1.208 |   1.208\n",
      " 450 | [21.32526096  0.19216279  0.3614492   0.7809499  -0.17725651] |   1.195 |   1.195\n",
      " 475 | [18.47077189  0.20051345  0.41305798  0.70759879 -0.15689122] |   1.183 |   1.178\n",
      " 500 | [14.7866675   0.21753213  0.49765815  0.66671606 -0.13199428] |   1.160 |   1.160\n",
      " 525 | [12.40581499  0.23750991  0.57871805  0.71922209 -0.11803936] |   1.150 |   1.125\n",
      " 550 | [ 9.30754295  0.26747058  0.69369891  0.81691875 -0.10003839] |   1.069 |   1.062\n",
      " 575 | [ 8.08549142  0.2915027   0.77103302  0.9662617  -0.09332433] |   0.991 |   0.979\n",
      " 600 | [ 7.93650344  0.29591674  0.7849126   0.99836258 -0.09284155] |   0.975 |   0.974\n",
      " 625 | [ 7.90577988  0.29627113  0.78605383  0.99982433 -0.09258162] |   0.974 |   0.974\n",
      " 650 | [ 7.89798513  0.29634846  0.78610737  0.99994202 -0.09241031] |   0.974 |   0.974\n",
      " 675 | [ 7.71355103  0.29774788  0.78593025  0.99885111 -0.08815892] |   0.971 |   0.971\n",
      " 700 | [ 6.53260194  0.30693153  0.78285651  0.99215327 -0.05964029] |   0.954 |   0.947\n",
      " 725 | [2.98781863 0.33600166 0.7566506  0.97118653 0.03671097] |   0.876 |   0.876\n",
      " 750 | [1.06504067 0.35266867 0.73214817 0.95950948 0.09549549] |   0.763 |   0.745\n",
      " 775 | [0.7640619  0.35522459 0.72905914 0.95785782 0.10424555] |   0.745 |   0.744\n",
      " 800 | [0.74653362 0.35543089 0.72841685 0.95783762 0.10506794] |   0.744 |   0.744\n",
      " 825 | [0.74762852 0.3553941  0.72875573 0.95840144 0.10487433] |   0.744 |   0.744\n",
      " 850 | [0.75618916 0.35532071 0.72980505 0.96549559 0.10465361] |   0.741 |   0.740\n",
      " 875 | [0.79540028 0.35489592 0.73535897 0.99699337 0.10306805] |   0.727 |   0.726\n",
      " 900 | [0.79704596 0.35494725 0.73518561 0.99991407 0.10341598] |   0.726 |   0.726\n",
      " 925 | [0.79728094 0.35493864 0.73525548 0.99996774 0.10337002] |   0.726 |   0.726\n",
      " 950 | [0.79737285 0.35493569 0.7352788  0.99999821 0.10335542] |   0.726 |   0.726\n",
      " 975 | [0.7972875  0.35493958 0.73525054 0.99999969 0.10337604] |   0.726 |   0.726\n",
      "1000 | [0.79723897 0.35493986 0.73528087 0.99999644 0.10335944] |   0.726 |   0.726\n",
      "1025 | [0.79435315 0.35502783 0.73534853 0.99993566 0.10342972] |   0.725 |   0.725\n",
      "1050 | [0.76259873 0.35598738 0.73631104 0.99924086 0.10406989] |   0.723 |   0.723\n",
      "1075 | [0.76167853 0.35601947 0.73623635 0.9992267  0.10415082] |   0.723 |   0.723\n",
      "1100 | [0.76069681 0.35606134 0.73597415 0.99922268 0.10434822] |   0.723 |   0.723\n",
      "1125 | [0.76060225 0.35606479 0.73596286 0.99922132 0.10435873] |   0.723 |   0.723\n",
      "1150 | [0.76052675 0.35606839 0.73593344 0.99922136 0.10437952] |   0.723 |   0.723\n",
      "1175 | [0.76054447 0.35606749 0.73594157 0.9992217  0.10437393] |   0.723 |   0.723\n",
      "1200 | [0.76052493 0.35606876 0.73592713 0.99923053 0.10438419] |   0.723 |   0.723\n",
      "1225 | [0.76060637 0.35607039 0.73585139 0.99939946 0.10444125] |   0.723 |   0.723\n",
      "1250 | [0.76147216 0.35604487 0.7358889  0.99992665 0.10442953] |   0.723 |   0.723\n",
      "1275 | [0.76187802 0.35602665 0.73602971 0.99998863 0.10433365] |   0.723 |   0.723\n",
      "1300 | [0.76187691 0.35602709 0.7360216  0.99999998 0.10433957] |   0.723 |   0.723\n",
      "1325 | [0.76190032 0.35602589 0.73603265 0.99999924 0.1043319 ] |   0.723 |   0.723\n",
      "1350 | [0.76190857 0.35602547 0.73603658 0.99999893 0.10432917] |   0.723 |   0.723\n",
      "Optimization terminated successfully.\n",
      "         Current function value: 0.722672\n",
      "         Iterations: 814\n",
      "         Function evaluations: 1398\n"
     ]
    }
   ],
   "source": [
    "# Reset global variables for this calibration\n",
    "i = 0\n",
    "min_MSE = MAX_MSE_H93  # Initiate to highest value.\n",
    "\n",
    "\n",
    "print(\"Starting brute force scanning...\")\n",
    "p0 = brute(\n",
    "    H93_Lewis_error_function,\n",
    "    (\n",
    "        (5, 10.1, 5.0),  # kappa_v\n",
    "        (0.2, 0.4, 0.1),  # theta_v\n",
    "        (0.2, 0.6, 0.1),  # sigma_v\n",
    "        (-0.75, -0.25, 0.25),  # rho\n",
    "        (0.01, 0.08, 0.01),\n",
    "    ),  # v0\n",
    "    finish=None,\n",
    ")\n",
    "print(f\"Brute force params:{p0}\")\n",
    "print(\"Starting local scanning...\")\n",
    "# second run with local, convex minimization\n",
    "# (dig deeper where promising)\n",
    "opt_params_lewis_60 = fmin(\n",
    "    H93_Lewis_error_function,\n",
    "    p0,\n",
    "    xtol=0.000001,\n",
    "    ftol=0.000001,\n",
    "    maxiter=1200,\n",
    "    maxfun=1500,\n",
    ")\n",
    "np.save(\"H93_Lewis_60_calibration_full_saved_params\", np.array(opt_params_lewis_60))"
   ]
  },
  {
   "cell_type": "code",
   "execution_count": 39,
   "id": "e79a19c1",
   "metadata": {},
   "outputs": [
    {
     "name": "stdout",
     "output_type": "stream",
     "text": [
      "H93 Lewis(2001) params:\n",
      "Κ_V:0.7619\n",
      "Θ_V:0.356\n",
      "σ_V:0.736\n",
      "ρ:1.0\n",
      "v_0:0.1043\n"
     ]
    }
   ],
   "source": [
    "print(\"H93 Lewis(2001) params:\")\n",
    "print(f\"Κ_V:{round(opt_params_lewis_60[KAPPA_V],4)}\")\n",
    "print(f\"Θ_V:{round(opt_params_lewis_60[THETA_V],4)}\")\n",
    "print(f\"σ_V:{round(opt_params_lewis_60[SIGMA_V],4)}\")\n",
    "print(f\"ρ:{round(opt_params_lewis_60[RHO],4)}\")\n",
    "print(f\"v_0:{round(opt_params_lewis_60[V_0],4)}\")"
   ]
  },
  {
   "cell_type": "markdown",
   "id": "b620fefb",
   "metadata": {},
   "source": [
    "Partial Bates model calibration using paramters obtained for Heston(93)"
   ]
  },
  {
   "cell_type": "code",
   "execution_count": 40,
   "id": "135ab3a4",
   "metadata": {},
   "outputs": [
    {
     "name": "stdout",
     "output_type": "stream",
     "text": [
      "Starting brute force scanning...\n",
      "   0 | [ 0.         -0.5         0.          0.76190692  0.35602555  0.73603581\n",
      "  0.99999897  0.10432971] |   0.723 |   0.723\n",
      "  25 | [ 0.2        -0.5         0.25        0.76190692  0.35602555  0.73603581\n",
      "  0.99999897  0.10432971] |   2.356 |   0.723\n",
      "  50 | [ 0.4        -0.5         0.5         0.76190692  0.35602555  0.73603581\n",
      "  0.99999897  0.10432971] |  10.443 |   0.723\n",
      "Brute force params:[ 0.  -0.2  0. ]\n",
      "Starting local scanning...\n",
      "  75 | [ 0.00000000e+00 -2.00000000e-01  2.50000000e-04  7.61906922e-01\n",
      "  3.56025550e-01  7.36035808e-01  9.99998974e-01  1.04329706e-01] |   0.723 |   0.723\n",
      " 100 | [ 2.50587448e-05 -1.99990593e-01  3.34371314e-05  7.61906922e-01\n",
      "  3.56025550e-01  7.36035808e-01  9.99998974e-01  1.04329706e-01] |   0.723 |   0.723\n",
      " 125 | [ 6.66716756e-07 -1.99999554e-01  1.22995115e-06  7.61906922e-01\n",
      "  3.56025550e-01  7.36035808e-01  9.99998974e-01  1.04329706e-01] |   0.723 |   0.723\n",
      " 150 | [ 6.77275993e-08 -2.00000007e-01  1.01087465e-07  7.61906922e-01\n",
      "  3.56025550e-01  7.36035808e-01  9.99998974e-01  1.04329706e-01] |   0.723 |   0.723\n",
      "Optimization terminated successfully.\n",
      "         Current function value: 0.722672\n",
      "         Iterations: 70\n",
      "         Function evaluations: 130\n"
     ]
    }
   ],
   "source": [
    "i = 0\n",
    "min_MSE = MAX_MSE_BATES\n",
    "\n",
    "print(\"Starting brute force scanning...\")\n",
    "# First, we run with brute force\n",
    "# (scan sensible regions)\n",
    "opt_params_lewis_bates_initial = 0.0\n",
    "opt_params_lewis_bates_initial = brute(\n",
    "    B96_error_function,\n",
    "    ((0.0, 0.51, 0.1), (-0.5, -0.11, 0.1), (0.0, 0.51, 0.25)),  # lambda  # mu  # delta\n",
    "    args=opt_params_lewis_60,\n",
    "    finish=None,\n",
    ")\n",
    "print(f\"Brute force params:{opt_params_lewis_bates_initial}\")\n",
    "print(\"Starting local scanning...\")\n",
    "# Second, we run with local, convex minimization\n",
    "# (dig deeper where promising)\n",
    "opt_params_lewis_bates = fmin(\n",
    "    B96_error_function,\n",
    "    opt_params_lewis_bates_initial,\n",
    "    args=(\n",
    "        opt_params_lewis_60[KAPPA_V],\n",
    "        opt_params_lewis_60[THETA_V],\n",
    "        opt_params_lewis_60[SIGMA_V],\n",
    "        opt_params_lewis_60[RHO],\n",
    "        opt_params_lewis_60[V_0],\n",
    "    ),\n",
    "    xtol=0.0000001,\n",
    "    ftol=0.0000001,\n",
    "    maxiter=550,\n",
    "    maxfun=750,\n",
    ")\n",
    "np.save(\"opt_params_lewis_bates_saved_params\", np.array(opt_params_lewis_bates))"
   ]
  },
  {
   "cell_type": "markdown",
   "id": "d9c3e798",
   "metadata": {},
   "source": [
    "Full Bates model calibration using all params obtained from previous calibrations"
   ]
  },
  {
   "cell_type": "code",
   "execution_count": 41,
   "id": "58f8d43c",
   "metadata": {},
   "outputs": [
    {
     "name": "stdout",
     "output_type": "stream",
     "text": [
      "Bates (1996) using Lewis(2001) partially calibrated params:\n",
      "λ_0:0.0\n",
      "μ_0:-0.2\n",
      "δ_0:0.0\n"
     ]
    }
   ],
   "source": [
    "print(\"Bates (1996) using Lewis(2001) partially calibrated params:\")\n",
    "print(f\"λ_0:{round(opt_params_lewis_bates[LAMBDA-LAMBDA],4)}\")\n",
    "print(f\"μ_0:{round(opt_params_lewis_bates[MU-LAMBDA],4)}\")\n",
    "print(f\"δ_0:{round(opt_params_lewis_bates[DELTA-LAMBDA],4)}\")"
   ]
  },
  {
   "cell_type": "code",
   "execution_count": 42,
   "id": "4172adc1",
   "metadata": {},
   "outputs": [
    {
     "data": {
      "text/html": [
       "<div>\n",
       "<style scoped>\n",
       "    .dataframe tbody tr th:only-of-type {\n",
       "        vertical-align: middle;\n",
       "    }\n",
       "\n",
       "    .dataframe tbody tr th {\n",
       "        vertical-align: top;\n",
       "    }\n",
       "\n",
       "    .dataframe thead th {\n",
       "        text-align: right;\n",
       "    }\n",
       "</style>\n",
       "<table border=\"1\" class=\"dataframe\">\n",
       "  <thead>\n",
       "    <tr style=\"text-align: right;\">\n",
       "      <th></th>\n",
       "      <th>Days to maturity</th>\n",
       "      <th>Strike</th>\n",
       "      <th>Price</th>\n",
       "      <th>Type</th>\n",
       "      <th>T</th>\n",
       "      <th>r</th>\n",
       "      <th>ModelLewisBates</th>\n",
       "    </tr>\n",
       "  </thead>\n",
       "  <tbody>\n",
       "    <tr>\n",
       "      <th>5</th>\n",
       "      <td>60</td>\n",
       "      <td>227.5</td>\n",
       "      <td>16.78</td>\n",
       "      <td>C</td>\n",
       "      <td>0.24</td>\n",
       "      <td>0.015</td>\n",
       "      <td>18.457859</td>\n",
       "    </tr>\n",
       "    <tr>\n",
       "      <th>6</th>\n",
       "      <td>60</td>\n",
       "      <td>230.0</td>\n",
       "      <td>17.65</td>\n",
       "      <td>C</td>\n",
       "      <td>0.24</td>\n",
       "      <td>0.015</td>\n",
       "      <td>17.409575</td>\n",
       "    </tr>\n",
       "    <tr>\n",
       "      <th>7</th>\n",
       "      <td>60</td>\n",
       "      <td>232.5</td>\n",
       "      <td>16.86</td>\n",
       "      <td>C</td>\n",
       "      <td>0.24</td>\n",
       "      <td>0.015</td>\n",
       "      <td>16.421713</td>\n",
       "    </tr>\n",
       "    <tr>\n",
       "      <th>8</th>\n",
       "      <td>60</td>\n",
       "      <td>235.0</td>\n",
       "      <td>16.05</td>\n",
       "      <td>C</td>\n",
       "      <td>0.24</td>\n",
       "      <td>0.015</td>\n",
       "      <td>15.491018</td>\n",
       "    </tr>\n",
       "    <tr>\n",
       "      <th>9</th>\n",
       "      <td>60</td>\n",
       "      <td>237.5</td>\n",
       "      <td>15.10</td>\n",
       "      <td>C</td>\n",
       "      <td>0.24</td>\n",
       "      <td>0.015</td>\n",
       "      <td>14.614421</td>\n",
       "    </tr>\n",
       "  </tbody>\n",
       "</table>\n",
       "</div>"
      ],
      "text/plain": [
       "   Days to maturity  Strike  Price Type     T      r  ModelLewisBates\n",
       "5                60   227.5  16.78    C  0.24  0.015        18.457859\n",
       "6                60   230.0  17.65    C  0.24  0.015        17.409575\n",
       "7                60   232.5  16.86    C  0.24  0.015        16.421713\n",
       "8                60   235.0  16.05    C  0.24  0.015        15.491018\n",
       "9                60   237.5  15.10    C  0.24  0.015        14.614421"
      ]
     },
     "execution_count": 42,
     "metadata": {},
     "output_type": "execute_result"
    }
   ],
   "source": [
    "options_filtered[\"ModelLewisBates\"] = B96_jump_calculate_model_values(\n",
    "    opt_params_lewis_bates, opt_params_lewis_60\n",
    ")\n",
    "options_filtered"
   ]
  },
  {
   "cell_type": "code",
   "execution_count": 43,
   "id": "0ab5c543",
   "metadata": {},
   "outputs": [
    {
     "data": {
      "image/png": "[encoded data removed]",
      "text/plain": [
       "<Figure size 720x432 with 1 Axes>"
      ]
     },
     "metadata": {},
     "output_type": "display_data"
    }
   ],
   "source": [
    "fig, ax = plt.subplots(1, 1)\n",
    "options_filtered.plot(x=\"Strike\", y=\"Price\", style=\"b\", lw=1.5, legend=True, ax=ax)\n",
    "options_filtered.plot(x=\"Strike\", y=\"ModelLewisBates\", style=\"ro-\", legend=True, ax=ax)\n",
    "plt.xlabel(\"strike\")\n",
    "plt.ylabel(\"option values\")\n",
    "plt.title(\"Bates Lewis(2001) model vs market 60-days maturity\")\n",
    "plt.suptitle(\"**PARTIAL CALIBRATION ONLY - NOT FOR PRODUCTION USE**\")\n",
    "plt.tight_layout()\n",
    "plt.savefig(\"H93_Lewis_calibration_quotes.pdf\")"
   ]
  },
  {
   "cell_type": "code",
   "execution_count": 44,
   "id": "0108f92d",
   "metadata": {},
   "outputs": [
    {
     "data": {
      "image/png": "[encoded data removed]",
      "text/plain": [
       "<Figure size 720x432 with 1 Axes>"
      ]
     },
     "metadata": {},
     "output_type": "display_data"
    }
   ],
   "source": [
    "plt.subplot(212)\n",
    "wi = 2.0\n",
    "diffs = options_filtered.ModelLewisBates.values - options_filtered.Price.values\n",
    "plt.bar(options_filtered.Strike.values - wi / 2, diffs, width=wi)\n",
    "plt.title(\"Bates Lewis(2001) model vs market 60-days maturity diff\")\n",
    "plt.ylabel(\"difference\")\n",
    "plt.xlabel(\"Strike\")\n",
    "plt.axis(\n",
    "    [\n",
    "        min(options_filtered.Strike) - 3,\n",
    "        max(options_filtered.Strike) + 2,\n",
    "        min(diffs) * 1.1,\n",
    "        max(diffs) * 1.1,\n",
    "    ]\n",
    ")\n",
    "\n",
    "plt.tight_layout()"
   ]
  },
  {
   "cell_type": "markdown",
   "id": "abf23b6d",
   "metadata": {},
   "source": [
    "Perform full calibration of Bates model:"
   ]
  },
  {
   "cell_type": "code",
   "execution_count": 45,
   "id": "dba37187",
   "metadata": {},
   "outputs": [
    {
     "name": "stdout",
     "output_type": "stream",
     "text": [
      "   0 | [ 0.76190692  0.35602555  0.73603581  0.99999897  0.10432971  0.\n",
      " -0.2         0.        ] |   0.723 |   0.723\n",
      "  25 | [ 7.67751341e-01  3.58280505e-01  7.35265495e-01  9.96893534e-01\n",
      "  1.04061311e-01  5.34001453e-05 -2.02136006e-01  5.34001453e-05] |   0.725 |   0.723\n",
      "  50 | [ 7.63168315e-01  3.56464475e-01  7.35928010e-01  9.99535888e-01\n",
      "  1.04308942e-01  5.99001801e-05 -2.02396007e-01  5.99001801e-05] |   0.723 |   0.723\n",
      "  75 | [ 7.62137815e-01  3.56107282e-01  7.36016665e-01  9.99916529e-01\n",
      "  1.04326478e-01  6.20084754e-05 -2.02480339e-01  6.20084754e-05] |   0.723 |   0.723\n",
      " 100 | [ 7.61953020e-01  3.56041987e-01  7.36031991e-01  9.99982543e-01\n",
      "  1.04329073e-01  5.58094650e-05 -2.02583941e-01  6.45985275e-05] |   0.723 |   0.723\n",
      " 125 | [ 7.61912517e-01  3.56027548e-01  7.36035345e-01  9.99996982e-01\n",
      "  1.04329630e-01  2.12074718e-05 -2.03049927e-01  7.62481668e-05] |   0.723 |   0.723\n",
      " 150 | [ 7.61906672e-01  3.56025466e-01  7.36035829e-01  9.99999065e-01\n",
      "  1.04329710e-01  6.59258123e-06 -2.01578793e-01  3.94698177e-05] |   0.723 |   0.723\n",
      " 175 | [ 7.61905910e-01  3.56025191e-01  7.36035892e-01  9.99999336e-01\n",
      "  1.04329720e-01  2.77350361e-07 -1.99741907e-01  6.17616104e-05] |   0.723 |   0.723\n",
      " 200 | [ 7.61905928e-01  3.56025198e-01  7.36035890e-01  9.99999329e-01\n",
      "  1.04329720e-01  5.28160336e-07 -2.00343631e-01  5.85315763e-05] |   0.723 |   0.723\n",
      " 225 | [ 7.61905795e-01  3.56025150e-01  7.36035901e-01  9.99999377e-01\n",
      "  1.04329722e-01  5.22415169e-08 -2.00460603e-01  6.51122383e-05] |   0.723 |   0.723\n",
      "Optimization terminated successfully.\n",
      "         Current function value: 0.722671\n",
      "         Iterations: 193\n",
      "         Function evaluations: 387\n"
     ]
    }
   ],
   "source": [
    "min_MSE = i = 0\n",
    "min_MSE = MAX_MSE_BATES\n",
    "\n",
    "opt_params_lewis_bates_full = fmin(\n",
    "    B96_error_function_full,\n",
    "    np.concatenate((opt_params_lewis_60, opt_params_lewis_bates)),\n",
    "    xtol=0.001,\n",
    "    ftol=0.001,\n",
    "    maxiter=1250,\n",
    "    maxfun=650,\n",
    ")"
   ]
  },
  {
   "cell_type": "code",
   "execution_count": 46,
   "id": "09d47063",
   "metadata": {},
   "outputs": [
    {
     "name": "stdout",
     "output_type": "stream",
     "text": [
      "Bates (1996) using Lewis(2001) calibrated params:\n",
      "Κ_V:0.7619\n",
      "Θ_V:0.356\n",
      "σ_V:0.736\n",
      "ρ:1.0\n",
      "v_0:0.1043\n",
      "λ_0:0.0\n",
      "μ_0:-0.2005\n",
      "δ_0:0.0001\n"
     ]
    }
   ],
   "source": [
    "print(\"Bates (1996) using Lewis(2001) calibrated params:\")\n",
    "print(f\"Κ_V:{round(opt_params_lewis_bates_full[KAPPA_V],4)}\")\n",
    "print(f\"Θ_V:{round(opt_params_lewis_bates_full[THETA_V],4)}\")\n",
    "print(f\"σ_V:{round(opt_params_lewis_bates_full[SIGMA_V],4)}\")\n",
    "print(f\"ρ:{round(opt_params_lewis_bates_full[RHO],4)}\")\n",
    "print(f\"v_0:{round(opt_params_lewis_bates_full[V_0],4)}\")\n",
    "print(f\"λ_0:{round(opt_params_lewis_bates_full[LAMBDA],4)}\")\n",
    "print(f\"μ_0:{round(opt_params_lewis_bates_full[MU],4)}\")\n",
    "print(f\"δ_0:{round(opt_params_lewis_bates_full[DELTA],4)}\")"
   ]
  },
  {
   "cell_type": "code",
   "execution_count": 47,
   "id": "f9930414",
   "metadata": {},
   "outputs": [
    {
     "data": {
      "text/html": [
       "<div>\n",
       "<style scoped>\n",
       "    .dataframe tbody tr th:only-of-type {\n",
       "        vertical-align: middle;\n",
       "    }\n",
       "\n",
       "    .dataframe tbody tr th {\n",
       "        vertical-align: top;\n",
       "    }\n",
       "\n",
       "    .dataframe thead th {\n",
       "        text-align: right;\n",
       "    }\n",
       "</style>\n",
       "<table border=\"1\" class=\"dataframe\">\n",
       "  <thead>\n",
       "    <tr style=\"text-align: right;\">\n",
       "      <th></th>\n",
       "      <th>Days to maturity</th>\n",
       "      <th>Strike</th>\n",
       "      <th>Price</th>\n",
       "      <th>Type</th>\n",
       "      <th>T</th>\n",
       "      <th>r</th>\n",
       "      <th>ModelLewisBates</th>\n",
       "      <th>ModelLewisBatesFull</th>\n",
       "    </tr>\n",
       "  </thead>\n",
       "  <tbody>\n",
       "    <tr>\n",
       "      <th>5</th>\n",
       "      <td>60</td>\n",
       "      <td>227.5</td>\n",
       "      <td>16.78</td>\n",
       "      <td>C</td>\n",
       "      <td>0.24</td>\n",
       "      <td>0.015</td>\n",
       "      <td>18.457859</td>\n",
       "      <td>18.457856</td>\n",
       "    </tr>\n",
       "    <tr>\n",
       "      <th>6</th>\n",
       "      <td>60</td>\n",
       "      <td>230.0</td>\n",
       "      <td>17.65</td>\n",
       "      <td>C</td>\n",
       "      <td>0.24</td>\n",
       "      <td>0.015</td>\n",
       "      <td>17.409575</td>\n",
       "      <td>17.409571</td>\n",
       "    </tr>\n",
       "    <tr>\n",
       "      <th>7</th>\n",
       "      <td>60</td>\n",
       "      <td>232.5</td>\n",
       "      <td>16.86</td>\n",
       "      <td>C</td>\n",
       "      <td>0.24</td>\n",
       "      <td>0.015</td>\n",
       "      <td>16.421713</td>\n",
       "      <td>16.421710</td>\n",
       "    </tr>\n",
       "    <tr>\n",
       "      <th>8</th>\n",
       "      <td>60</td>\n",
       "      <td>235.0</td>\n",
       "      <td>16.05</td>\n",
       "      <td>C</td>\n",
       "      <td>0.24</td>\n",
       "      <td>0.015</td>\n",
       "      <td>15.491018</td>\n",
       "      <td>15.491015</td>\n",
       "    </tr>\n",
       "    <tr>\n",
       "      <th>9</th>\n",
       "      <td>60</td>\n",
       "      <td>237.5</td>\n",
       "      <td>15.10</td>\n",
       "      <td>C</td>\n",
       "      <td>0.24</td>\n",
       "      <td>0.015</td>\n",
       "      <td>14.614421</td>\n",
       "      <td>14.614418</td>\n",
       "    </tr>\n",
       "  </tbody>\n",
       "</table>\n",
       "</div>"
      ],
      "text/plain": [
       "   Days to maturity  Strike  Price Type     T      r  ModelLewisBates  \\\n",
       "5                60   227.5  16.78    C  0.24  0.015        18.457859   \n",
       "6                60   230.0  17.65    C  0.24  0.015        17.409575   \n",
       "7                60   232.5  16.86    C  0.24  0.015        16.421713   \n",
       "8                60   235.0  16.05    C  0.24  0.015        15.491018   \n",
       "9                60   237.5  15.10    C  0.24  0.015        14.614421   \n",
       "\n",
       "   ModelLewisBatesFull  \n",
       "5            18.457856  \n",
       "6            17.409571  \n",
       "7            16.421710  \n",
       "8            15.491015  \n",
       "9            14.614418  "
      ]
     },
     "execution_count": 47,
     "metadata": {},
     "output_type": "execute_result"
    }
   ],
   "source": [
    "options_filtered[\"ModelLewisBatesFull\"] = B96_jump_calculate_model_values(\n",
    "    opt_params_lewis_bates_full\n",
    ")\n",
    "options_filtered"
   ]
  },
  {
   "cell_type": "code",
   "execution_count": 48,
   "id": "da31782a",
   "metadata": {},
   "outputs": [
    {
     "data": {
      "image/png": "[encoded data removed]",
      "text/plain": [
       "<Figure size 720x432 with 1 Axes>"
      ]
     },
     "metadata": {},
     "output_type": "display_data"
    }
   ],
   "source": [
    "fig, ax = plt.subplots(1, 1)\n",
    "options_filtered.plot(x=\"Strike\", y=\"Price\", style=\"b\", lw=1.5, legend=True, ax=ax)\n",
    "options_filtered.plot(\n",
    "    x=\"Strike\", y=\"ModelLewisBatesFull\", style=\"ro-\", legend=True, ax=ax\n",
    ")\n",
    "plt.xlabel(\"strike\")\n",
    "plt.ylabel(\"option values\")\n",
    "plt.title(\"Bates Lewis(2001) full model vs market 60-days maturity\")\n",
    "plt.tight_layout()"
   ]
  },
  {
   "cell_type": "code",
   "execution_count": 49,
   "id": "208d5dd6",
   "metadata": {},
   "outputs": [
    {
     "data": {
      "image/png": "[encoded data removed]",
      "text/plain": [
       "<Figure size 720x432 with 1 Axes>"
      ]
     },
     "metadata": {},
     "output_type": "display_data"
    }
   ],
   "source": [
    "plt.subplot(212)\n",
    "wi = 2.0\n",
    "diffs = options_filtered.ModelLewisBatesFull.values - options_filtered.Price.values\n",
    "plt.bar(options_filtered.Strike.values - wi / 2, diffs, width=wi)\n",
    "plt.title(\"Bates Lewis(2001) model vs market 60-days maturity diff\")\n",
    "plt.ylabel(\"difference\")\n",
    "plt.xlabel(\"Strike\")\n",
    "plt.axis(\n",
    "    [\n",
    "        min(options_filtered.Strike) - 3,\n",
    "        max(options_filtered.Strike) + 2,\n",
    "        min(diffs) * 1.1,\n",
    "        max(diffs) * 1.1,\n",
    "    ]\n",
    ")\n",
    "\n",
    "plt.tight_layout()"
   ]
  },
  {
   "cell_type": "markdown",
   "id": "d72ac0fa",
   "metadata": {},
   "source": [
    " ### Obtain put prices using put-call parity using call prices obtained above\n",
    " \n",
    " Put call parity equation is:\n",
    "\n",
    "$$c + K e^{-rt} = S_0 + p$$\n"
   ]
  },
  {
   "cell_type": "code",
   "execution_count": 50,
   "id": "20a8dfac",
   "metadata": {},
   "outputs": [
    {
     "name": "stdout",
     "output_type": "stream",
     "text": [
      "Put prices using put-call parity:\n",
      "Strike: $227.50, Price: $12.24\n",
      "Strike: $230.00, Price: $13.68\n",
      "Strike: $232.50, Price: $15.19\n",
      "Strike: $235.00, Price: $16.75\n",
      "Strike: $237.50, Price: $18.36\n"
     ]
    }
   ],
   "source": [
    "print(\"Put prices using put-call parity:\")\n",
    "for row, option in options_filtered.iterrows():\n",
    "    print(\n",
    "        f'Strike: ${option[\"Strike\"]:.2f}, Price: ${option[\"ModelLewisBatesFull\"] + option[\"Strike\"] * exp(-option[\"r\"]*option[\"T\"])-S0:.2f}'\n",
    "    )"
   ]
  },
  {
   "cell_type": "markdown",
   "id": "604619b0",
   "metadata": {},
   "source": [
    "## Calibration with Heston(93) with Carr-Madan (1999) params"
   ]
  },
  {
   "cell_type": "code",
   "execution_count": 51,
   "id": "da3223d9",
   "metadata": {},
   "outputs": [
    {
     "name": "stdout",
     "output_type": "stream",
     "text": [
      "Starting brute force scanning...\n",
      "   0 | [ 5.    0.12  1.   -0.25  0.05] |   0.411 |   0.411\n",
      "  25 | [ 5.    0.15  1.   -0.25  0.05] |   0.623 |   0.411\n",
      "  50 | [ 5.    0.16  1.2  -0.25  0.05] |   0.566 |   0.411\n",
      "  75 | [ 5.    0.18  1.   -0.25  0.05] |   1.007 |   0.411\n",
      " 100 | [ 5.    0.19  1.1  -0.25  0.05] |   1.025 |   0.411\n",
      " 125 | [ 5.    0.2   1.2  -0.25  0.05] |   1.048 |   0.411\n",
      " 150 | [10.    0.12  1.3  -0.25  0.05] |   0.665 |   0.411\n",
      " 175 | [10.    0.14  1.   -0.25  0.05] |   1.497 |   0.411\n",
      " 200 | [10.    0.15  1.1  -0.25  0.05] |   1.656 |   0.411\n",
      " 225 | [10.    0.16  1.2  -0.25  0.05] |   1.830 |   0.411\n",
      " 250 | [10.    0.17  1.3  -0.25  0.05] |   2.018 |   0.411\n",
      " 275 | [10.    0.19  1.   -0.25  0.05] |   3.684 |   0.411\n",
      " 300 | [10.    0.2   1.1  -0.25  0.05] |   3.937 |   0.411\n",
      "Brute force params:[ 5.    0.12  1.   -0.25  0.05]\n",
      "Starting local scanning...\n",
      " 325 | [ 4.9296    0.114624  1.06272  -0.26568   0.049536] |   0.318 |   0.317\n",
      " 350 | [ 4.72562451  0.1068398   0.97266923 -0.30584336  0.047869  ] |   0.272 |   0.271\n",
      " 375 | [ 3.93814188  0.10721079  0.848718   -0.33110889  0.06887441] |   0.262 |   0.262\n",
      " 400 | [ 3.29404281  0.11211339  0.81169003 -0.35732178  0.08239658] |   0.259 |   0.259\n",
      " 425 | [ 2.6755836   0.11753709  0.78783966 -0.38487292  0.09503171] |   0.258 |   0.258\n",
      " 450 | [ 2.63588843  0.11694177  0.78296186 -0.39063405  0.09717634] |   0.258 |   0.258\n",
      " 475 | [ 2.62615646  0.11672973  0.78252699 -0.39119192  0.09744973] |   0.258 |   0.258\n",
      " 500 | [ 2.62188223  0.11684336  0.78269711 -0.39124281  0.09747957] |   0.258 |   0.258\n",
      " 525 | [ 2.62865749  0.11683941  0.7837044  -0.3910103   0.09745383] |   0.258 |   0.258\n",
      " 550 | [ 2.70208048  0.11658742  0.79349048 -0.38988547  0.09759153] |   0.258 |   0.258\n",
      " 575 | [ 2.97315356  0.1154466   0.82853573 -0.38702324  0.09854807] |   0.258 |   0.258\n",
      " 600 | [ 2.98764089  0.11533117  0.83010929 -0.38719224  0.09871177] |   0.258 |   0.258\n",
      " 625 | [ 3.08385733  0.11485846  0.84165761 -0.38687119  0.09927689] |   0.258 |   0.258\n",
      " 650 | [ 3.09761578  0.11478403  0.84327369 -0.38686401  0.09937483] |   0.258 |   0.258\n",
      " 675 | [ 3.09738143  0.11479231  0.84327339 -0.38682908  0.09936207] |   0.258 |   0.258\n",
      " 700 | [ 3.09683267  0.11479757  0.84321862 -0.38681753  0.09935305] |   0.258 |   0.258\n",
      " 725 | [ 3.09567185  0.11480613  0.84309193 -0.38680633  0.09933992] |   0.258 |   0.258\n",
      " 750 | [ 3.09445913  0.11481817  0.84297041 -0.38677987  0.09932012] |   0.258 |   0.258\n",
      " 775 | [ 3.11047737  0.11473622  0.84484614 -0.38676194  0.09942503] |   0.258 |   0.258\n",
      " 800 | [ 3.13403731  0.11466496  0.84777563 -0.38650248  0.09947042] |   0.258 |   0.258\n",
      " 825 | [ 3.15602309  0.11465868  0.85072108 -0.38597281  0.09939649] |   0.258 |   0.258\n",
      " 850 | [ 3.15631973  0.11464747  0.85072191 -0.3860187   0.09941632] |   0.258 |   0.258\n",
      " 875 | [ 3.15593262  0.11464597  0.85066436 -0.38603572  0.09942114] |   0.258 |   0.258\n",
      " 900 | [ 3.15587444  0.11464588  0.85065621 -0.38603759  0.09942224] |   0.258 |   0.258\n",
      " 925 | [ 3.15572472  0.11464553  0.85063472 -0.3860431   0.09942347] |   0.258 |   0.258\n",
      " 950 | [ 3.15596641  0.11464441  0.85066317 -0.38604242  0.09942435] |   0.258 |   0.258\n",
      " 975 | [ 3.15639481  0.11463299  0.85067852 -0.38608724  0.09944518] |   0.258 |   0.258\n",
      "1000 | [ 3.15667304  0.11461955  0.85066616 -0.38614562  0.09947174] |   0.258 |   0.258\n",
      "1025 | [ 3.15687673  0.11461896  0.8506914  -0.38614329  0.09947318] |   0.258 |   0.258\n",
      "1050 | [ 3.15748064  0.11462221  0.85078482 -0.38611217  0.09946427] |   0.258 |   0.258\n",
      "1075 | [ 3.15781765  0.11461778  0.8508138  -0.38612514  0.09947279] |   0.258 |   0.258\n",
      "1100 | [ 3.15817483  0.11461543  0.85085316 -0.38612764  0.09947519] |   0.258 |   0.258\n",
      "1125 | [ 3.15855677  0.11461805  0.85091437 -0.38610519  0.09946801] |   0.258 |   0.258\n",
      "1150 | [ 3.15895997  0.11461866  0.85097094 -0.38609196  0.09946615] |   0.258 |   0.258\n",
      "1175 | [ 3.15904721  0.11461353  0.85096364 -0.38611476  0.09947601] |   0.258 |   0.258\n",
      "1200 | [ 3.15924842  0.11461024  0.85097852 -0.38612568  0.0994822 ] |   0.258 |   0.258\n",
      "1225 | [ 3.15958184  0.11461102  0.85102631 -0.38611348  0.09947913] |   0.258 |   0.258\n",
      "1250 | [ 3.15981469  0.11461357  0.85106714 -0.38609514  0.09947326] |   0.258 |   0.258\n",
      "1275 | [ 3.15988816  0.11461333  0.85107614 -0.38609443  0.09947378] |   0.258 |   0.258\n",
      "1300 | [ 3.15991465  0.11461219  0.85107548 -0.3860993   0.09947635] |   0.258 |   0.258\n",
      "1325 | [ 3.15989267  0.11461137  0.85106946 -0.38610386  0.09947814] |   0.258 |   0.258\n",
      "Optimization terminated successfully.\n",
      "         Current function value: 0.257972\n",
      "         Iterations: 788\n",
      "         Function evaluations: 1312\n"
     ]
    }
   ],
   "source": [
    "# Reset global variables for this calibration\n",
    "i = 0\n",
    "min_MSE = MAX_MSE_H93  # Initiate to highest value.\n",
    "\n",
    "print(\"Starting brute force scanning...\")\n",
    "p0 = brute(\n",
    "    H93_CM99_error_function,\n",
    "    (\n",
    "        (0, 10.1, 5.0),  # kappa_v\n",
    "        (0.12, 0.2, 0.01),  # theta_v\n",
    "        (1.0, 1.3, 0.1),  # sigma_v\n",
    "        (-0.25, 0.0, 0.25),  # rho\n",
    "        (0.05, 0.1, 0.01),\n",
    "    ),  # v0\n",
    "    finish=None,\n",
    ")\n",
    "print(f\"Brute force params:{p0}\")\n",
    "print(\"Starting local scanning...\")\n",
    "# second run with local, convex minimization\n",
    "# (dig deeper where promising)\n",
    "opt_params_cm99_60 = fmin(\n",
    "    H93_CM99_error_function, p0, xtol=0.00001, ftol=0.00001, maxiter=1500, maxfun=1700\n",
    ")\n",
    "np.save(\"H93_CM99_calibration_full_saved_params\", np.array(opt_params_cm99))"
   ]
  },
  {
   "cell_type": "markdown",
   "id": "d580ce01",
   "metadata": {},
   "source": [
    "Here we will use params obtained after calibration of Heston(93) using Carr-Madan(1999)"
   ]
  },
  {
   "cell_type": "code",
   "execution_count": 52,
   "id": "94c4992a",
   "metadata": {},
   "outputs": [
    {
     "name": "stdout",
     "output_type": "stream",
     "text": [
      "H93 Carr-Madan(1999) params:\n",
      "Κ_V:3.16\n",
      "Θ_V:0.11\n",
      "σ_V:0.85\n",
      "ρ:-0.39\n",
      "v_0:0.1\n"
     ]
    }
   ],
   "source": [
    "print(\"H93 Carr-Madan(1999) params:\")\n",
    "print(f\"Κ_V:{round(opt_params_cm99_60[KAPPA_V],2)}\")\n",
    "print(f\"Θ_V:{round(opt_params_cm99_60[THETA_V],2)}\")\n",
    "print(f\"σ_V:{round(opt_params_cm99_60[SIGMA_V],2)}\")\n",
    "print(f\"ρ:{round(opt_params_cm99_60[RHO],2)}\")\n",
    "print(f\"v_0:{round(opt_params_cm99_60[V_0],2)}\")"
   ]
  },
  {
   "cell_type": "markdown",
   "id": "2f063603",
   "metadata": {},
   "source": [
    "Partial Bates model calibration using paramters obtained for Heston(93)"
   ]
  },
  {
   "cell_type": "code",
   "execution_count": 53,
   "id": "8314570a",
   "metadata": {},
   "outputs": [
    {
     "name": "stdout",
     "output_type": "stream",
     "text": [
      "Starting brute force scanning...\n",
      "   0 | [ 0.         -0.5         0.          3.15989533  0.11461139  0.85106993\n",
      " -0.38610365  0.09947807] |   4.811 |   4.811\n",
      "  25 | [ 0.2        -0.5         0.25        3.15989533  0.11461139  0.85106993\n",
      " -0.38610365  0.09947807] |   1.809 |   1.809\n",
      "  50 | [ 0.4        -0.5         0.5         3.15989533  0.11461139  0.85106993\n",
      " -0.38610365  0.09947807] |   7.191 |   1.649\n",
      "Brute force params:[ 0.  -0.2  0. ]\n",
      "Starting local scanning...\n",
      "  75 | [ 3.00000000e-01 -3.00000000e-01  2.50000000e-04  3.15989533e+00\n",
      "  1.14611395e-01  8.51069929e-01 -3.86103650e-01  9.94780720e-02] |   1.797 |   1.649\n",
      " 100 | [ 2.78893853e-01 -3.43845320e-01  1.33314917e-04  3.15989533e+00\n",
      "  1.14611395e-01  8.51069929e-01 -3.86103650e-01  9.94780720e-02] |   1.752 |   1.649\n",
      " 125 | [ 2.78993117e-01 -3.46032449e-01  1.63712840e-04  3.15989533e+00\n",
      "  1.14611395e-01  8.51069929e-01 -3.86103650e-01  9.94780720e-02] |   1.750 |   1.649\n",
      " 150 | [ 2.78494226e-01 -3.46563033e-01  1.67712967e-04  3.15989533e+00\n",
      "  1.14611395e-01  8.51069929e-01 -3.86103650e-01  9.94780720e-02] |   1.750 |   1.649\n",
      " 175 | [ 2.78501219e-01 -3.46548582e-01  1.66999157e-04  3.15989533e+00\n",
      "  1.14611395e-01  8.51069929e-01 -3.86103650e-01  9.94780720e-02] |   1.750 |   1.649\n",
      " 200 | [ 2.78512147e-01 -3.46554798e-01  1.43513789e-04  3.15989533e+00\n",
      "  1.14611395e-01  8.51069929e-01 -3.86103650e-01  9.94780720e-02] |   1.750 |   1.649\n",
      " 225 | [ 2.78500162e-01 -3.46557699e-01  1.50593458e-05  3.15989533e+00\n",
      "  1.14611395e-01  8.51069929e-01 -3.86103650e-01  9.94780720e-02] |   1.750 |   1.649\n",
      " 250 | [ 2.78503956e-01 -3.46549008e-01  1.37357830e-06  3.15989533e+00\n",
      "  1.14611395e-01  8.51069929e-01 -3.86103650e-01  9.94780720e-02] |   1.750 |   1.649\n",
      " 275 | [ 2.78505575e-01 -3.46548247e-01  1.52638758e-07  3.15989533e+00\n",
      "  1.14611395e-01  8.51069929e-01 -3.86103650e-01  9.94780720e-02] |   1.750 |   1.649\n",
      "Optimization terminated successfully.\n",
      "         Current function value: 2.065109\n",
      "         Iterations: 134\n",
      "         Function evaluations: 237\n"
     ]
    }
   ],
   "source": [
    "i = 0\n",
    "min_MSE = MAX_MSE_BATES\n",
    "USE_REGULARIZATION = True\n",
    "\n",
    "print(\"Starting brute force scanning...\")\n",
    "# First, we run with brute force\n",
    "# (scan sensible regions)\n",
    "opt_params_cm_bates_initial = 0.0\n",
    "opt_params_cm_bates_initial = brute(\n",
    "    B96_error_function,\n",
    "    ((-0.5, 0.51, 0.1), (-0.5, -0.11, 0.1), (-0.25, 0.75, 0.25)),  # lambda  # mu  #\n",
    "    args=opt_params_cm99_60,\n",
    "    finish=None,\n",
    ")\n",
    "print(f\"Brute force params:{opt_params_lewis_bates_initial}\")\n",
    "print(\"Starting local scanning...\")\n",
    "# Second, we run with local, convex minimization\n",
    "# (dig deeper where promising)\n",
    "opt_params_cm_bates = fmin(\n",
    "    B96_error_function,\n",
    "    opt_params_cm_bates_initial,\n",
    "    args=(\n",
    "        opt_params_cm99_60[KAPPA_V],\n",
    "        opt_params_cm99_60[THETA_V],\n",
    "        opt_params_cm99_60[SIGMA_V],\n",
    "        opt_params_cm99_60[RHO],\n",
    "        opt_params_cm99_60[V_0],\n",
    "    ),\n",
    "    xtol=0.0000001,\n",
    "    ftol=0.0000001,\n",
    "    maxiter=550,\n",
    "    maxfun=750,\n",
    ")\n",
    "np.save(\"opt_params_lewis_bates_saved_params\", np.array(opt_params_cm_bates))"
   ]
  },
  {
   "cell_type": "markdown",
   "id": "58eb94fb",
   "metadata": {},
   "source": [
    "Full Bates model calibration using all params obtained from previous calibrations"
   ]
  },
  {
   "cell_type": "code",
   "execution_count": 54,
   "id": "5bfb493c",
   "metadata": {},
   "outputs": [
    {
     "data": {
      "text/plain": [
       "array([ 2.78504999e-01, -3.46548686e-01,  1.28559553e-07])"
      ]
     },
     "execution_count": 54,
     "metadata": {},
     "output_type": "execute_result"
    }
   ],
   "source": [
    "opt_params_cm_bates"
   ]
  },
  {
   "cell_type": "code",
   "execution_count": 55,
   "id": "21984acc",
   "metadata": {},
   "outputs": [
    {
     "data": {
      "text/html": [
       "<div>\n",
       "<style scoped>\n",
       "    .dataframe tbody tr th:only-of-type {\n",
       "        vertical-align: middle;\n",
       "    }\n",
       "\n",
       "    .dataframe tbody tr th {\n",
       "        vertical-align: top;\n",
       "    }\n",
       "\n",
       "    .dataframe thead th {\n",
       "        text-align: right;\n",
       "    }\n",
       "</style>\n",
       "<table border=\"1\" class=\"dataframe\">\n",
       "  <thead>\n",
       "    <tr style=\"text-align: right;\">\n",
       "      <th></th>\n",
       "      <th>Days to maturity</th>\n",
       "      <th>Strike</th>\n",
       "      <th>Price</th>\n",
       "      <th>Type</th>\n",
       "      <th>T</th>\n",
       "      <th>r</th>\n",
       "      <th>ModelLewisBates</th>\n",
       "      <th>ModelLewisBatesFull</th>\n",
       "      <th>ModelCMBates</th>\n",
       "    </tr>\n",
       "  </thead>\n",
       "  <tbody>\n",
       "    <tr>\n",
       "      <th>5</th>\n",
       "      <td>60</td>\n",
       "      <td>227.5</td>\n",
       "      <td>16.78</td>\n",
       "      <td>C</td>\n",
       "      <td>0.24</td>\n",
       "      <td>0.015</td>\n",
       "      <td>18.457859</td>\n",
       "      <td>18.457856</td>\n",
       "      <td>12.410573</td>\n",
       "    </tr>\n",
       "    <tr>\n",
       "      <th>6</th>\n",
       "      <td>60</td>\n",
       "      <td>230.0</td>\n",
       "      <td>17.65</td>\n",
       "      <td>C</td>\n",
       "      <td>0.24</td>\n",
       "      <td>0.015</td>\n",
       "      <td>17.409575</td>\n",
       "      <td>17.409571</td>\n",
       "      <td>10.546778</td>\n",
       "    </tr>\n",
       "    <tr>\n",
       "      <th>7</th>\n",
       "      <td>60</td>\n",
       "      <td>232.5</td>\n",
       "      <td>16.86</td>\n",
       "      <td>C</td>\n",
       "      <td>0.24</td>\n",
       "      <td>0.015</td>\n",
       "      <td>16.421713</td>\n",
       "      <td>16.421710</td>\n",
       "      <td>8.771185</td>\n",
       "    </tr>\n",
       "    <tr>\n",
       "      <th>8</th>\n",
       "      <td>60</td>\n",
       "      <td>235.0</td>\n",
       "      <td>16.05</td>\n",
       "      <td>C</td>\n",
       "      <td>0.24</td>\n",
       "      <td>0.015</td>\n",
       "      <td>15.491018</td>\n",
       "      <td>15.491015</td>\n",
       "      <td>7.099219</td>\n",
       "    </tr>\n",
       "    <tr>\n",
       "      <th>9</th>\n",
       "      <td>60</td>\n",
       "      <td>237.5</td>\n",
       "      <td>15.10</td>\n",
       "      <td>C</td>\n",
       "      <td>0.24</td>\n",
       "      <td>0.015</td>\n",
       "      <td>14.614421</td>\n",
       "      <td>14.614418</td>\n",
       "      <td>5.548763</td>\n",
       "    </tr>\n",
       "  </tbody>\n",
       "</table>\n",
       "</div>"
      ],
      "text/plain": [
       "   Days to maturity  Strike  Price Type     T      r  ModelLewisBates  \\\n",
       "5                60   227.5  16.78    C  0.24  0.015        18.457859   \n",
       "6                60   230.0  17.65    C  0.24  0.015        17.409575   \n",
       "7                60   232.5  16.86    C  0.24  0.015        16.421713   \n",
       "8                60   235.0  16.05    C  0.24  0.015        15.491018   \n",
       "9                60   237.5  15.10    C  0.24  0.015        14.614421   \n",
       "\n",
       "   ModelLewisBatesFull  ModelCMBates  \n",
       "5            18.457856     12.410573  \n",
       "6            17.409571     10.546778  \n",
       "7            16.421710      8.771185  \n",
       "8            15.491015      7.099219  \n",
       "9            14.614418      5.548763  "
      ]
     },
     "execution_count": 55,
     "metadata": {},
     "output_type": "execute_result"
    }
   ],
   "source": [
    "options_filtered[\"ModelCMBates\"] = B96_jump_calculate_model_values(\n",
    "    opt_params_cm_bates, opt_params_cm99\n",
    ")\n",
    "options_filtered"
   ]
  },
  {
   "cell_type": "code",
   "execution_count": 56,
   "id": "63a1b55d",
   "metadata": {},
   "outputs": [
    {
     "data": {
      "image/png": "[encoded data removed]",
      "text/plain": [
       "<Figure size 720x432 with 1 Axes>"
      ]
     },
     "metadata": {},
     "output_type": "display_data"
    }
   ],
   "source": [
    "fig, ax = plt.subplots(1, 1)\n",
    "options_filtered.plot(x=\"Strike\", y=\"Price\", style=\"b\", lw=1.5, legend=True, ax=ax)\n",
    "options_filtered.plot(x=\"Strike\", y=\"ModelCMBates\", style=\"ro-\", legend=True, ax=ax)\n",
    "plt.xlabel(\"strike\")\n",
    "plt.ylabel(\"option values\")\n",
    "plt.title(\"Bates Carr-Madan(1999) model vs market 60-days maturity\")\n",
    "plt.suptitle(\"**PARTIAL CALIBRATION ONLY - NOT FOR PRODUCTION USE**\")\n",
    "plt.tight_layout()\n",
    "plt.savefig(\"H93_CM99_calibration_quotes.pdf\")"
   ]
  },
  {
   "cell_type": "code",
   "execution_count": 57,
   "id": "8ca5960f",
   "metadata": {},
   "outputs": [
    {
     "data": {
      "image/png": "[encoded data removed]",
      "text/plain": [
       "<Figure size 720x432 with 1 Axes>"
      ]
     },
     "metadata": {},
     "output_type": "display_data"
    }
   ],
   "source": [
    "plt.subplot(212)\n",
    "wi = 2.0\n",
    "diffs = options_filtered.ModelCMBates.values - options_filtered.Price.values\n",
    "plt.bar(options_filtered.Strike.values - wi / 2, diffs, width=wi)\n",
    "plt.title(\"Bates Carr-Madan(1999) model vs market 15-days maturity diff\")\n",
    "plt.ylabel(\"difference\")\n",
    "plt.xlabel(\"Strike\")\n",
    "plt.axis(\n",
    "    [\n",
    "        min(options_filtered.Strike) - 3,\n",
    "        max(options_filtered.Strike) + 2,\n",
    "        min(diffs) * 1.1,\n",
    "        max(diffs) * 1.1,\n",
    "    ]\n",
    ")\n",
    "\n",
    "plt.tight_layout()"
   ]
  },
  {
   "cell_type": "markdown",
   "id": "2116e130",
   "metadata": {},
   "source": [
    "Perform full calibration of Bates model:"
   ]
  },
  {
   "cell_type": "code",
   "execution_count": 58,
   "id": "c3b054a7",
   "metadata": {},
   "outputs": [
    {
     "name": "stdout",
     "output_type": "stream",
     "text": [
      " 300 | [ 3.15989533e+00  1.14611395e-01  8.51069929e-01 -3.86103650e-01\n",
      "  9.94780720e-02  2.78504999e-01 -3.46548686e-01  1.34987531e-07] |   1.750 |   1.649\n",
      " 325 | [ 3.60250326e+00  1.25580864e-01  8.22396585e-01 -3.47052334e-01\n",
      "  1.03564129e-01  2.78557341e-01 -2.75746946e-01  1.29886236e-07] |   1.600 |   1.600\n",
      " 350 | [ 4.15924919e+00  1.43652481e-01  7.20203156e-01 -2.92720650e-01\n",
      "  1.09638482e-01  2.78598952e-01 -1.45620857e-01  1.36592090e-07] |   1.433 |   1.411\n",
      " 375 | [ 4.54175777e+00  1.53896200e-01  6.87546428e-01 -2.48478191e-01\n",
      "  1.05777518e-01  2.75363492e-01 -8.87963635e-02  1.44767618e-07] |   1.387 |   1.372\n",
      " 400 | [ 6.23075800e+00  1.80745019e-01  6.19145569e-01 -3.35352492e-02\n",
      "  7.54764468e-02  1.69385938e-01 -4.03177899e-02  1.94870040e-07] |   1.300 |   1.297\n",
      " 425 | [ 6.70555537e+00  1.65414543e-01  6.11943133e-01  1.54320404e-02\n",
      "  7.42140048e-02  1.12334278e-01 -7.55440042e-02  2.23208163e-07] |   1.305 |   1.237\n",
      " 450 | [ 8.40284617e+00  1.77203577e-01  5.51163904e-01  1.99659824e-01\n",
      "  5.04857703e-02  2.78680792e-03 -3.76219570e-02  2.72645130e-07] |   1.213 |   1.213\n",
      " 475 | [ 8.49014231e+00  1.78209382e-01  5.53701408e-01  2.18144845e-01\n",
      "  4.86621264e-02  3.68067379e-03 -4.61422307e-02  2.71586960e-07] |   1.208 |   1.208\n",
      " 500 | [ 9.22214850e+00  1.84174469e-01  6.64118702e-01  2.94548375e-01\n",
      "  3.54346216e-02  1.35190036e-02 -2.75558386e-02  2.52531094e-07] |   1.185 |   1.177\n",
      " 525 | [ 1.11853597e+01  1.90680866e-01  1.00599620e+00  4.98268109e-01\n",
      "  9.57179376e-04  4.08804000e-02 -8.75888807e-03  1.97081744e-07] |   1.078 |   1.078\n",
      " 550 | [ 1.15694524e+01  1.85712912e-01  1.01293655e+00  5.56585398e-01\n",
      "  1.41540659e-03  4.76121044e-02 -9.53557178e-03  1.97650272e-07] |   1.056 |   1.054\n",
      " 575 | [ 1.26638964e+01  1.74649431e-01  1.03105204e+00  7.36465991e-01\n",
      "  2.41124223e-03  8.11081856e-02 -2.43188198e-02  1.90333190e-07] |   1.035 |   1.018\n",
      " 600 | [ 1.43324493e+01  1.68484948e-01  1.06367515e+00  9.98618652e-01\n",
      "  1.72830602e-03  1.40460663e-01 -1.55352195e-02  1.68879247e-07] |   0.935 |   0.935\n",
      " 625 | [ 1.42273333e+01  1.71418289e-01  1.06269556e+00  9.84558078e-01\n",
      "  7.96603083e-04  1.38905151e-01 -1.44593961e-02  1.68229109e-07] |   0.920 |   0.918\n",
      " 650 | [ 1.43209317e+01  1.72066158e-01  1.07493742e+00  9.91533748e-01\n",
      "  2.90822525e-04  1.41227818e-01 -3.90361373e-03  1.65895036e-07] |   0.913 |   0.911\n",
      " 675 | [ 1.43818012e+01  1.71926755e-01  1.07960359e+00  9.98672123e-01\n",
      "  1.27585828e-04  1.43100107e-01 -1.43354577e-03  1.64702319e-07] |   0.910 |   0.909\n",
      " 700 | [ 1.43938116e+01  1.71997093e-01  1.08152467e+00  9.99692355e-01\n",
      "  5.06062110e-05  1.43558707e-01 -3.16721952e-04  1.64289489e-07] |   0.909 |   0.909\n",
      "Optimization terminated successfully.\n",
      "         Current function value: 0.909062\n",
      "         Iterations: 353\n",
      "         Function evaluations: 561\n"
     ]
    }
   ],
   "source": [
    "opt_params_cm_bates_full = fmin(\n",
    "    B96_error_function_full,\n",
    "    np.concatenate((opt_params_cm99_60, opt_params_cm_bates)),\n",
    "    xtol=0.001,\n",
    "    ftol=0.001,\n",
    "    maxiter=1250,\n",
    "    maxfun=650,\n",
    ")"
   ]
  },
  {
   "cell_type": "code",
   "execution_count": 59,
   "id": "505c4704",
   "metadata": {},
   "outputs": [
    {
     "name": "stdout",
     "output_type": "stream",
     "text": [
      "Bates (1996) using Carr-Madan(1999) calibrated params:\n",
      "Κ_V:14.4\n",
      "Θ_V:0.17\n",
      "σ_V:1.08\n",
      "ρ:1.0\n",
      "v_0:0.0\n",
      "λ_0:0.14\n",
      "μ_0:-0.0\n",
      "δ_0:0.0\n"
     ]
    }
   ],
   "source": [
    "print(\"Bates (1996) using Carr-Madan(1999) calibrated params:\")\n",
    "print(f\"Κ_V:{round(opt_params_cm_bates_full[KAPPA_V],2)}\")\n",
    "print(f\"Θ_V:{round(opt_params_cm_bates_full[THETA_V],2)}\")\n",
    "print(f\"σ_V:{round(opt_params_cm_bates_full[SIGMA_V],2)}\")\n",
    "print(f\"ρ:{round(opt_params_cm_bates_full[RHO],2)}\")\n",
    "print(f\"v_0:{round(opt_params_cm_bates_full[V_0],2)}\")\n",
    "print(f\"λ_0:{round(opt_params_cm_bates_full[LAMBDA],2)}\")\n",
    "print(f\"μ_0:{round(opt_params_cm_bates_full[MU],2)}\")\n",
    "print(f\"δ_0:{round(opt_params_cm_bates_full[DELTA],2)}\")"
   ]
  },
  {
   "cell_type": "code",
   "execution_count": 60,
   "id": "c61913c5",
   "metadata": {},
   "outputs": [
    {
     "data": {
      "text/html": [
       "<div>\n",
       "<style scoped>\n",
       "    .dataframe tbody tr th:only-of-type {\n",
       "        vertical-align: middle;\n",
       "    }\n",
       "\n",
       "    .dataframe tbody tr th {\n",
       "        vertical-align: top;\n",
       "    }\n",
       "\n",
       "    .dataframe thead th {\n",
       "        text-align: right;\n",
       "    }\n",
       "</style>\n",
       "<table border=\"1\" class=\"dataframe\">\n",
       "  <thead>\n",
       "    <tr style=\"text-align: right;\">\n",
       "      <th></th>\n",
       "      <th>Days to maturity</th>\n",
       "      <th>Strike</th>\n",
       "      <th>Price</th>\n",
       "      <th>Type</th>\n",
       "      <th>T</th>\n",
       "      <th>r</th>\n",
       "      <th>ModelLewisBates</th>\n",
       "      <th>ModelLewisBatesFull</th>\n",
       "      <th>ModelCMBates</th>\n",
       "      <th>ModelCMBatesFull</th>\n",
       "    </tr>\n",
       "  </thead>\n",
       "  <tbody>\n",
       "    <tr>\n",
       "      <th>5</th>\n",
       "      <td>60</td>\n",
       "      <td>227.5</td>\n",
       "      <td>16.78</td>\n",
       "      <td>C</td>\n",
       "      <td>0.24</td>\n",
       "      <td>0.015</td>\n",
       "      <td>18.457859</td>\n",
       "      <td>18.457856</td>\n",
       "      <td>12.410573</td>\n",
       "      <td>18.644495</td>\n",
       "    </tr>\n",
       "    <tr>\n",
       "      <th>6</th>\n",
       "      <td>60</td>\n",
       "      <td>230.0</td>\n",
       "      <td>17.65</td>\n",
       "      <td>C</td>\n",
       "      <td>0.24</td>\n",
       "      <td>0.015</td>\n",
       "      <td>17.409575</td>\n",
       "      <td>17.409571</td>\n",
       "      <td>10.546778</td>\n",
       "      <td>17.500380</td>\n",
       "    </tr>\n",
       "    <tr>\n",
       "      <th>7</th>\n",
       "      <td>60</td>\n",
       "      <td>232.5</td>\n",
       "      <td>16.86</td>\n",
       "      <td>C</td>\n",
       "      <td>0.24</td>\n",
       "      <td>0.015</td>\n",
       "      <td>16.421713</td>\n",
       "      <td>16.421710</td>\n",
       "      <td>8.771185</td>\n",
       "      <td>16.420280</td>\n",
       "    </tr>\n",
       "    <tr>\n",
       "      <th>8</th>\n",
       "      <td>60</td>\n",
       "      <td>235.0</td>\n",
       "      <td>16.05</td>\n",
       "      <td>C</td>\n",
       "      <td>0.24</td>\n",
       "      <td>0.015</td>\n",
       "      <td>15.491018</td>\n",
       "      <td>15.491015</td>\n",
       "      <td>7.099219</td>\n",
       "      <td>15.401690</td>\n",
       "    </tr>\n",
       "    <tr>\n",
       "      <th>9</th>\n",
       "      <td>60</td>\n",
       "      <td>237.5</td>\n",
       "      <td>15.10</td>\n",
       "      <td>C</td>\n",
       "      <td>0.24</td>\n",
       "      <td>0.015</td>\n",
       "      <td>14.614421</td>\n",
       "      <td>14.614418</td>\n",
       "      <td>5.548763</td>\n",
       "      <td>14.442033</td>\n",
       "    </tr>\n",
       "  </tbody>\n",
       "</table>\n",
       "</div>"
      ],
      "text/plain": [
       "   Days to maturity  Strike  Price Type     T      r  ModelLewisBates  \\\n",
       "5                60   227.5  16.78    C  0.24  0.015        18.457859   \n",
       "6                60   230.0  17.65    C  0.24  0.015        17.409575   \n",
       "7                60   232.5  16.86    C  0.24  0.015        16.421713   \n",
       "8                60   235.0  16.05    C  0.24  0.015        15.491018   \n",
       "9                60   237.5  15.10    C  0.24  0.015        14.614421   \n",
       "\n",
       "   ModelLewisBatesFull  ModelCMBates  ModelCMBatesFull  \n",
       "5            18.457856     12.410573         18.644495  \n",
       "6            17.409571     10.546778         17.500380  \n",
       "7            16.421710      8.771185         16.420280  \n",
       "8            15.491015      7.099219         15.401690  \n",
       "9            14.614418      5.548763         14.442033  "
      ]
     },
     "execution_count": 60,
     "metadata": {},
     "output_type": "execute_result"
    }
   ],
   "source": [
    "options_filtered[\"ModelCMBatesFull\"] = B96_jump_calculate_model_values(\n",
    "    opt_params_cm_bates_full\n",
    ")\n",
    "options_filtered"
   ]
  },
  {
   "cell_type": "code",
   "execution_count": 61,
   "id": "8e8cf985",
   "metadata": {},
   "outputs": [
    {
     "data": {
      "image/png": "[encoded data removed]",
      "text/plain": [
       "<Figure size 720x432 with 1 Axes>"
      ]
     },
     "metadata": {},
     "output_type": "display_data"
    }
   ],
   "source": [
    "fig, ax = plt.subplots(1, 1)\n",
    "options_filtered.plot(x=\"Strike\", y=\"Price\", style=\"bo-\", lw=1.5, legend=True, ax=ax)\n",
    "options_filtered.plot(x=\"Strike\", y=\"ModelLewisBatesFull\", style=\"ro-\", legend=True, ax=ax)\n",
    "options_filtered.plot(x=\"Strike\", y=\"ModelCMBatesFull\", style=\"go-\", legend=True, ax=ax)\n",
    "plt.xlabel(\"strike\")\n",
    "plt.ylabel(\"option values\")\n",
    "plt.title(\"Bates Carr-Madan(1999) model vs market 60-days maturity\")\n",
    "plt.tight_layout()\n",
    "plt.savefig(\"H93_CM99_calibration_quotes.pdf\")"
   ]
  },
  {
   "cell_type": "code",
   "execution_count": 62,
   "id": "47b46287",
   "metadata": {},
   "outputs": [
    {
     "data": {
      "image/png": "[encoded data removed]",
      "text/plain": [
       "<Figure size 720x432 with 1 Axes>"
      ]
     },
     "metadata": {},
     "output_type": "display_data"
    }
   ],
   "source": [
    "plt.subplot(212)\n",
    "wi = 2.0\n",
    "diffs = options_filtered.ModelCMBatesFull.values - options_filtered.Price.values\n",
    "plt.bar(options_filtered.Strike.values - wi / 2, diffs, width=wi)\n",
    "plt.title(\"Bates Carr-Madan(1999) model vs market 15-days maturity diff\")\n",
    "plt.ylabel(\"difference\")\n",
    "plt.xlabel(\"Strike\")\n",
    "plt.axis(\n",
    "    [\n",
    "        min(options_filtered.Strike) - 3,\n",
    "        max(options_filtered.Strike) + 2,\n",
    "        min(diffs) * 1.1,\n",
    "        max(diffs) * 1.1,\n",
    "    ]\n",
    ")\n",
    "\n",
    "plt.tight_layout()"
   ]
  },
  {
   "cell_type": "markdown",
   "id": "1560f8f3",
   "metadata": {},
   "source": [
    "### Obtain put prices using put-call parity using call prices obtained above"
   ]
  },
  {
   "cell_type": "markdown",
   "id": "f3befe08",
   "metadata": {},
   "source": [
    "Put call parity equation is:\n",
    "\n",
    "$$c + K e^{-rt} = S_0 + p$$\n"
   ]
  },
  {
   "cell_type": "code",
   "execution_count": 63,
   "id": "be519952",
   "metadata": {},
   "outputs": [
    {
     "name": "stdout",
     "output_type": "stream",
     "text": [
      "Put prices using put-call parity:\n",
      "Strike: $227.50, Price: $12.43\n",
      "Strike: $230.00, Price: $13.77\n",
      "Strike: $232.50, Price: $15.18\n",
      "Strike: $235.00, Price: $16.66\n",
      "Strike: $237.50, Price: $18.19\n"
     ]
    }
   ],
   "source": [
    "print(\"Put prices using put-call parity:\")\n",
    "for row, option in options_filtered.iterrows():\n",
    "    print(\n",
    "        f'Strike: ${option[\"Strike\"]:.2f}, Price: ${option[\"ModelCMBatesFull\"] + option[\"Strike\"] * exp(-option[\"r\"]*option[\"T\"])-S0:.2f}'\n",
    "    )"
   ]
  },
  {
   "cell_type": "markdown",
   "id": "8a84cfb6",
   "metadata": {},
   "source": [
    "## Monte Carlo pricing using calibrated params"
   ]
  },
  {
   "cell_type": "markdown",
   "id": "7e01ede6",
   "metadata": {},
   "source": [
    "Price vanilla put option uisng calibrated params obtained above"
   ]
  },
  {
   "cell_type": "code",
   "execution_count": 64,
   "id": "93152f0d",
   "metadata": {},
   "outputs": [
    {
     "name": "stdout",
     "output_type": "stream",
     "text": [
      "Pricing with Bates Lewis(2001) params...\n",
      "\u001b[35mPricing European Put option using Monte Carlo simulation...\u001b[0m\n",
      "Option params: S0: 232.9, K:227.5, T:0.28, r:0.015, σ:0.7360359014381317\n",
      "Model params: ν0:0.10432972166668461, κ:0.7619057945721124, θ:0.35602515011135155, ρ:0.9999993766827038\n",
      "\u001b[32m European option price using Heston model is \u001b[0m$3.76\n",
      "\u001b[35mPricing European Put option using Monte Carlo simulation...\u001b[0m\n",
      "Option params: S0: 232.9, K:230.0, T:0.28, r:0.015, σ:0.7360359014381317\n",
      "Model params: ν0:0.10432972166668461, κ:0.7619057945721124, θ:0.35602515011135155, ρ:0.9999993766827038\n",
      "\u001b[32m European option price using Heston model is \u001b[0m$4.54\n",
      "\u001b[35mPricing European Put option using Monte Carlo simulation...\u001b[0m\n",
      "Option params: S0: 232.9, K:232.5, T:0.28, r:0.015, σ:0.7360359014381317\n",
      "Model params: ν0:0.10432972166668461, κ:0.7619057945721124, θ:0.35602515011135155, ρ:0.9999993766827038\n",
      "\u001b[32m European option price using Heston model is \u001b[0m$5.47\n",
      "\u001b[35mPricing European Put option using Monte Carlo simulation...\u001b[0m\n",
      "Option params: S0: 232.9, K:235.0, T:0.28, r:0.015, σ:0.7360359014381317\n",
      "Model params: ν0:0.10432972166668461, κ:0.7619057945721124, θ:0.35602515011135155, ρ:0.9999993766827038\n",
      "\u001b[32m European option price using Heston model is \u001b[0m$6.47\n",
      "\u001b[35mPricing European Put option using Monte Carlo simulation...\u001b[0m\n",
      "Option params: S0: 232.9, K:237.5, T:0.28, r:0.015, σ:0.7360359014381317\n",
      "Model params: ν0:0.10432972166668461, κ:0.7619057945721124, θ:0.35602515011135155, ρ:0.9999993766827038\n",
      "\u001b[32m European option price using Heston model is \u001b[0m$7.54\n",
      "\n",
      "Pricing with Bates Carr-Madan params...\n",
      "\u001b[35mPricing European Put option using Monte Carlo simulation...\u001b[0m\n",
      "Option params: S0: 232.9, K:227.5, T:0.28, r:0.015, σ:1.082857198886762\n",
      "Model params: ν0:5.733546891600644e-07, κ:14.39669931237983, θ:0.17198035067671968, ρ:0.9997831061339997\n",
      "\u001b[32m European option price using Heston model is \u001b[0m$2.87\n",
      "\u001b[35mPricing European Put option using Monte Carlo simulation...\u001b[0m\n",
      "Option params: S0: 232.9, K:230.0, T:0.28, r:0.015, σ:1.082857198886762\n",
      "Model params: ν0:5.733546891600644e-07, κ:14.39669931237983, θ:0.17198035067671968, ρ:0.9997831061339997\n",
      "\u001b[32m European option price using Heston model is \u001b[0m$3.35\n",
      "\u001b[35mPricing European Put option using Monte Carlo simulation...\u001b[0m\n",
      "Option params: S0: 232.9, K:232.5, T:0.28, r:0.015, σ:1.082857198886762\n",
      "Model params: ν0:5.733546891600644e-07, κ:14.39669931237983, θ:0.17198035067671968, ρ:0.9997831061339997\n",
      "\u001b[32m European option price using Heston model is \u001b[0m$3.93\n",
      "\u001b[35mPricing European Put option using Monte Carlo simulation...\u001b[0m\n",
      "Option params: S0: 232.9, K:235.0, T:0.28, r:0.015, σ:1.082857198886762\n",
      "Model params: ν0:5.733546891600644e-07, κ:14.39669931237983, θ:0.17198035067671968, ρ:0.9997831061339997\n",
      "\u001b[32m European option price using Heston model is \u001b[0m$4.62\n",
      "\u001b[35mPricing European Put option using Monte Carlo simulation...\u001b[0m\n",
      "Option params: S0: 232.9, K:237.5, T:0.28, r:0.015, σ:1.082857198886762\n",
      "Model params: ν0:5.733546891600644e-07, κ:14.39669931237983, θ:0.17198035067671968, ρ:0.9997831061339997\n",
      "\u001b[32m European option price using Heston model is \u001b[0m$5.29\n"
     ]
    }
   ],
   "source": [
    "T_bates = 70 / NUMBER_OF_TRADING_DAYS\n",
    "\n",
    "print(\"Pricing with Bates Lewis(2001) params...\")\n",
    "european_option_lewis_bates_mc = heston_model_mc_option_values(\n",
    "    opt_params_lewis_bates_full[KAPPA_V : V_0 + 1], T_bates, EUROPEAN_OPTION, PUT_OPTION\n",
    ")\n",
    "\n",
    "print(\"\\nPricing with Bates Carr-Madan params...\")\n",
    "european_option_cm99_bates_mc = heston_model_mc_option_values(\n",
    "    opt_params_cm_bates_full[KAPPA_V : V_0 + 1], T_bates, EUROPEAN_OPTION, PUT_OPTION\n",
    ")"
   ]
  },
  {
   "cell_type": "code",
   "execution_count": 65,
   "id": "dac04a3e",
   "metadata": {},
   "outputs": [],
   "source": [
    "net_european_lewis_bates_option_mc = pd.DataFrame(\n",
    "    columns=[\"NetPrice\"],\n",
    "    index=options_filtered[\"Strike\"],\n",
    "    data=european_option_lewis_bates_mc,\n",
    ")\n",
    "net_european_cm99_bates_option_bates_mc = pd.DataFrame(\n",
    "    columns=[\"NetPrice\"],\n",
    "    index=options_filtered[\"Strike\"],\n",
    "    data=european_option_cm99_bates_mc,\n",
    ")"
   ]
  },
  {
   "cell_type": "code",
   "execution_count": 66,
   "id": "ddba56cc",
   "metadata": {},
   "outputs": [
    {
     "data": {
      "image/png": "[encoded data removed]",
      "text/plain": [
       "<Figure size 720x432 with 1 Axes>"
      ]
     },
     "metadata": {},
     "output_type": "display_data"
    }
   ],
   "source": [
    "fig, ax = plt.subplots(1, 1)\n",
    "net_european_lewis_bates_option_mc.plot(style=\"ro-\", legend=True, ax=ax)\n",
    "net_european_cm99_bates_option_bates_mc.plot(style=\"bo-\", legend=True, ax=ax)\n",
    "ax.legend([\"Lewis(2001)\", \"Carr-Madan(1999)\"])\n",
    "plt.xlabel(\"strike\")\n",
    "plt.ylabel(\"option values\")\n",
    "plt.title(\"Monte carlo simulation Asian put 70-day maturity\")\n",
    "plt.tight_layout()"
   ]
  },
  {
   "cell_type": "markdown",
   "id": "cd9ae760",
   "metadata": {},
   "source": [
    "### Price 70-day with 95%-moneyness put option for the client given calibrated params:"
   ]
  },
  {
   "cell_type": "code",
   "execution_count": 67,
   "id": "25b5191e",
   "metadata": {},
   "outputs": [
    {
     "name": "stdout",
     "output_type": "stream",
     "text": [
      "\u001b[35mPricing European Put option using Monte Carlo simulation...\u001b[0m\n",
      "Option params: S0: 232.9, K:221.255, T:0.28, r:0.015, σ:0.7360359014381317\n",
      "Model params: ν0:0.10432972166668461, κ:0.7619057945721124, θ:0.35602515011135155, ρ:0.9999993766827038\n",
      "\u001b[32m European option price using Heston model is \u001b[0m$1.99\n",
      "Net of fees put option price using Bates Lewis(2001) params is : $2.07\n",
      "\n",
      "\u001b[35mPricing European Put option using Monte Carlo simulation...\u001b[0m\n",
      "Option params: S0: 232.9, K:221.255, T:0.28, r:0.015, σ:1.082857198886762\n",
      "Model params: ν0:5.733546891600644e-07, κ:14.39669931237983, θ:0.17198035067671968, ρ:0.9997831061339997\n",
      "\u001b[32m European option price using Heston model is \u001b[0m$1.78\n",
      "Net of fees option price using Bates Carr-Madan(1999) params is : $1.85\n"
     ]
    }
   ],
   "source": [
    "T_bates = 70 / NUMBER_OF_TRADING_DAYS\n",
    "K_bates = 0.95 * S0\n",
    "\n",
    "european_option_lewis_bates_mc_value = heston_model_mc_option_value(\n",
    "    S0,\n",
    "    K_bates,\n",
    "    T_bates,\n",
    "    r,\n",
    "    opt_params_lewis_bates_full[SIGMA_V],\n",
    "    EUROPEAN_OPTION,\n",
    "    PUT_OPTION,\n",
    "    opt_params_lewis_bates_full[V_0],\n",
    "    opt_params_lewis_bates_full[KAPPA_V],\n",
    "    opt_params_lewis_bates_full[THETA_V],\n",
    "    opt_params_lewis_bates_full[RHO],\n",
    ")\n",
    "print(\n",
    "    f\"Net of fees put option price using Bates Lewis(2001) params is : ${round(european_option_lewis_bates_mc_value * (1 + BANK_COMMISSION),2)}\\n\"\n",
    ")\n",
    "\n",
    "european_option_cm99_bates_mc_value = heston_model_mc_option_value(\n",
    "    S0,\n",
    "    K_bates,\n",
    "    T_bates,\n",
    "    r,\n",
    "    opt_params_cm_bates_full[SIGMA_V],\n",
    "    EUROPEAN_OPTION,\n",
    "    PUT_OPTION,\n",
    "    opt_params_cm_bates_full[V_0],\n",
    "    opt_params_cm_bates_full[KAPPA_V],\n",
    "    opt_params_cm_bates_full[THETA_V],\n",
    "    opt_params_cm_bates_full[RHO],\n",
    ")\n",
    "\n",
    "print(\n",
    "    f\"Net of fees option price using Bates Carr-Madan(1999) params is : ${round(european_option_cm99_bates_mc_value * (1 + BANK_COMMISSION),2)}\"\n",
    ")"
   ]
  },
  {
   "cell_type": "markdown",
   "id": "d81aaa79",
   "metadata": {},
   "source": [
    "# Step 3\n",
    "\n",
    "##  COX-INGERSOLL-ROSS (1996) MODEL\n",
    "\n",
    "###   Calibration of CIR(1985) model"
   ]
  },
  {
   "cell_type": "code",
   "execution_count": 68,
   "id": "2c5aa488",
   "metadata": {},
   "outputs": [],
   "source": [
    "maturities = np.array((7, 30, 90, 180, 360)) / NUMBER_OF_DAYS_RATES\n",
    "rates = np.array((0.648, 0.679, 1.173, 1.809, 2.556)) / 100\n",
    "\n",
    "r0 = rates[0]\n",
    "factors = 1 + maturities * rates\n",
    "zero_rates = 1 / maturities * np.log(factors)\n",
    "\n",
    "# interpolate rates\n",
    "bspline = splrep(maturities, zero_rates, k=3)  # Cubic spline\n",
    "mat_list_n = np.linspace(0.0, 1.0, 52)  # Weekly maturities\n",
    "inter_rates = splev(mat_list_n, bspline, der=0)  # Interpolated rates\n",
    "\n",
    "first_der = splev(mat_list_n, bspline, der=1)  # First derivative of spline\n",
    "forward_rates_cspline = (\n",
    "    inter_rates + first_der * mat_list_n\n",
    ")  # Forward rate given interpolated ones and first derivative"
   ]
  },
  {
   "cell_type": "code",
   "execution_count": 69,
   "id": "b68aed49",
   "metadata": {},
   "outputs": [
    {
     "data": {
      "image/png": "[encoded data removed]",
      "text/plain": [
       "<Figure size 720x432 with 1 Axes>"
      ]
     },
     "metadata": {},
     "output_type": "display_data"
    }
   ],
   "source": [
    "plt.plot(maturities, zero_rates, \"r.\", markersize=\"12\", label=\"Market quotes\")\n",
    "plt.plot(\n",
    "    mat_list_n, forward_rates_cspline, \"b.\", markersize=\"10\", label=\"Forward rates\"\n",
    ")\n",
    "plt.plot(mat_list_n, inter_rates, \"--\", markersize=\"10\", label=\"Interpolation\")\n",
    "plt.plot(mat_list_n, first_der, \"g--\", markersize=\"10\", label=\"1st derivative\")\n",
    "plt.xlabel(\"Time Horizon\")\n",
    "plt.ylabel(\"Rates\")\n",
    "plt.title(\"Term Structure Euribor\")\n",
    "plt.legend()\n",
    "plt.show()"
   ]
  },
  {
   "cell_type": "code",
   "execution_count": 70,
   "id": "9c2f6bb0",
   "metadata": {},
   "outputs": [
    {
     "name": "stdout",
     "output_type": "stream",
     "text": [
      "Starting brute force scanning...\n",
      " 725 | [1.1  0.06 0.03] | 0.00008 | 0.00008\n",
      " 750 | [1.11 0.07 0.04] | 0.00004 | 0.00004\n",
      " 775 | [1.13 0.05 0.05] | 0.00011 | 0.00004\n",
      " 800 | [1.14 0.06 0.06] | 0.00007 | 0.00004\n",
      " 825 | [1.15 0.07 0.07] | 0.00004 | 0.00004\n",
      " 850 | [1.17 0.05 0.08] | 0.00011 | 0.00004\n",
      " 875 | [1.18 0.07 0.03] | 0.00003 | 0.00003\n",
      " 900 | [1.2  0.05 0.04] | 0.00010 | 0.00003\n",
      " 925 | [1.21 0.06 0.05] | 0.00006 | 0.00003\n",
      " 950 | [1.22 0.07 0.06] | 0.00003 | 0.00003\n",
      " 975 | [1.24 0.05 0.07] | 0.00010 | 0.00003\n",
      "1000 | [1.25 0.06 0.08] | 0.00005 | 0.00003\n",
      "1025 | [1.27 0.05 0.03] | 0.00009 | 0.00003\n",
      "1050 | [1.28 0.06 0.04] | 0.00005 | 0.00002\n",
      "1075 | [1.29 0.07 0.05] | 0.00002 | 0.00002\n",
      "1100 | [1.31 0.05 0.06] | 0.00009 | 0.00002\n",
      "1125 | [1.32 0.06 0.07] | 0.00005 | 0.00002\n",
      "1150 | [1.33 0.07 0.08] | 0.00002 | 0.00002\n",
      "1175 | [1.35 0.06 0.03] | 0.00004 | 0.00002\n",
      "1200 | [1.36 0.07 0.04] | 0.00002 | 0.00002\n",
      "1225 | [1.38 0.05 0.05] | 0.00008 | 0.00002\n",
      "1250 | [1.39 0.06 0.06] | 0.00004 | 0.00002\n",
      "1275 | [1.4  0.07 0.07] | 0.00002 | 0.00002\n",
      "1300 | [1.42 0.05 0.08] | 0.00007 | 0.00002\n",
      "1325 | [1.43 0.07 0.03] | 0.00002 | 0.00002\n",
      "1350 | [1.45 0.05 0.04] | 0.00007 | 0.00002\n",
      "1375 | [1.46 0.06 0.05] | 0.00004 | 0.00002\n",
      "1400 | [1.47 0.07 0.06] | 0.00001 | 0.00001\n",
      "1425 | [1.49 0.05 0.07] | 0.00007 | 0.00001\n",
      "1450 | [1.5  0.06 0.08] | 0.00003 | 0.00001\n",
      "1475 | [1.52 0.05 0.03] | 0.00007 | 0.00001\n",
      "1500 | [1.53 0.06 0.04] | 0.00003 | 0.00001\n",
      "1525 | [1.54 0.07 0.05] | 0.00001 | 0.00001\n",
      "1550 | [1.56 0.05 0.06] | 0.00006 | 0.00001\n",
      "1575 | [1.57 0.06 0.07] | 0.00003 | 0.00001\n",
      "1600 | [1.58 0.07 0.08] | 0.00001 | 0.00001\n",
      "1625 | [1.6  0.06 0.03] | 0.00003 | 0.00001\n",
      "1650 | [1.61 0.07 0.04] | 0.00001 | 0.00001\n",
      "1675 | [1.63 0.05 0.05] | 0.00006 | 0.00001\n",
      "1700 | [1.64 0.06 0.06] | 0.00003 | 0.00001\n",
      "1725 | [1.65 0.07 0.07] | 0.00001 | 0.00001\n",
      "1750 | [1.67 0.05 0.08] | 0.00006 | 0.00001\n",
      "1775 | [1.68 0.07 0.03] | 0.00001 | 0.00001\n",
      "1800 | [1.7  0.05 0.04] | 0.00006 | 0.00001\n",
      "1825 | [1.71 0.06 0.05] | 0.00003 | 0.00001\n",
      "1850 | [1.72 0.07 0.06] | 0.00002 | 0.00001\n",
      "1875 | [1.74 0.05 0.07] | 0.00005 | 0.00001\n",
      "1900 | [1.75 0.06 0.08] | 0.00003 | 0.00001\n",
      "1925 | [1.77 0.05 0.03] | 0.00005 | 0.00001\n",
      "1950 | [1.78 0.06 0.04] | 0.00003 | 0.00001\n",
      "1975 | [1.79 0.07 0.05] | 0.00002 | 0.00001\n",
      "2000 | [1.81 0.05 0.06] | 0.00005 | 0.00001\n",
      "2025 | [1.82 0.06 0.07] | 0.00003 | 0.00001\n",
      "2050 | [1.83 0.07 0.08] | 0.00002 | 0.00001\n",
      "2075 | [1.85 0.06 0.03] | 0.00003 | 0.00001\n",
      "2100 | [1.86 0.07 0.04] | 0.00002 | 0.00001\n",
      "2125 | [1.88 0.05 0.05] | 0.00005 | 0.00001\n",
      "2150 | [1.89 0.06 0.06] | 0.00003 | 0.00001\n",
      "2175 | [1.9  0.07 0.07] | 0.00002 | 0.00001\n",
      "2200 | [1.92 0.05 0.08] | 0.00005 | 0.00001\n",
      "2225 | [1.93 0.07 0.03] | 0.00002 | 0.00001\n",
      "2250 | [1.95 0.05 0.04] | 0.00005 | 0.00001\n",
      "2275 | [1.96 0.06 0.05] | 0.00003 | 0.00001\n",
      "2300 | [1.97 0.07 0.06] | 0.00003 | 0.00001\n",
      "2325 | [1.99 0.05 0.07] | 0.00005 | 0.00001\n",
      "Brute force params: [1.58 0.07 0.03]\n",
      "Starting local scanning...\n",
      "2350 | [1.264      0.09216667 0.024     ] | 0.00000 | 0.00000\n",
      "2375 | [1.00746226 0.10600522 0.02145181] | 0.00000 | 0.00000\n",
      "2400 | [1.00000481 0.107303   0.02140596] | 0.00000 | 0.00000\n",
      "2425 | [0.99873922 0.10741696 0.02137598] | 0.00000 | 0.00000\n",
      "2450 | [0.99830819 0.10745912 0.02137086] | 0.00000 | 0.00000\n",
      "2475 | [0.99863111 0.10743617 0.01862211] | 0.00000 | 0.00000\n",
      "2500 | [0.99887775 0.10741275 0.00151868] | 0.00000 | 0.00000\n",
      "2525 | [0.9987203  0.10742951 0.00100795] | 0.00000 | 0.00000\n",
      "Optimization terminated successfully.\n",
      "         Current function value: 0.000003\n",
      "         Iterations: 123\n",
      "         Function evaluations: 228\n"
     ]
    }
   ],
   "source": [
    "print(\"Starting brute force scanning...\")\n",
    "opt_params_cir_initial = brute(\n",
    "    CIR_error_function,\n",
    "    (\n",
    "        (1.1, 2, 0.01),  # kappa_v\n",
    "        (0.05, 0.07, 0.01),  # theta_v\n",
    "        (0.03, 0.09, 0.01),\n",
    "    ),  # sigma\n",
    "    finish=None,\n",
    ")\n",
    "print(f\"Brute force params: {opt_params_cir_initial}\")\n",
    "print(\"Starting local scanning...\")\n",
    "opt_params_cir = fmin(\n",
    "    CIR_error_function,\n",
    "    opt_params_cir_initial,\n",
    "    xtol=0.00001,\n",
    "    ftol=0.00001,\n",
    "    maxiter=400,\n",
    "    maxfun=700,\n",
    ")"
   ]
  },
  {
   "cell_type": "code",
   "execution_count": 71,
   "id": "d53accf2",
   "metadata": {},
   "outputs": [
    {
     "name": "stdout",
     "output_type": "stream",
     "text": [
      "CIR calibrated params:\n",
      "κ_r :0.999\n",
      "θ_r :0.107\n",
      "σ_r :0.001\n"
     ]
    }
   ],
   "source": [
    "print(\"CIR calibrated params:\")\n",
    "print(f\"κ_r :{round(opt_params_cir[KAPPA_R],3)}\")\n",
    "print(f\"θ_r :{round(opt_params_cir[THETA_R],3)}\")\n",
    "print(f\"σ_r :{round(opt_params_cir[SIGMA_R],3)}\")"
   ]
  },
  {
   "cell_type": "markdown",
   "id": "bf8d9bd5",
   "metadata": {},
   "source": [
    "## Monte Carlo simulation CIR(1985) model"
   ]
  },
  {
   "cell_type": "code",
   "execution_count": 72,
   "id": "c237544f",
   "metadata": {},
   "outputs": [
    {
     "data": {
      "text/plain": [
       "array([0.99871992, 0.10742945, 0.00100053])"
      ]
     },
     "execution_count": 72,
     "metadata": {},
     "output_type": "execute_result"
    }
   ],
   "source": [
    "opt_params_cir"
   ]
  },
  {
   "cell_type": "code",
   "execution_count": 73,
   "id": "8204cdaf",
   "metadata": {},
   "outputs": [],
   "source": [
    "r0 = zero_rates[0]\n",
    "T = 1\n",
    "\n",
    "iterations = 100_000\n",
    "steps = NUMBER_OF_DAYS_RATES\n",
    "\n",
    "cir_rate_paths = cir_model_paths(\n",
    "    r0,\n",
    "    opt_params_cir[KAPPA_R],\n",
    "    opt_params_cir[THETA_R],\n",
    "    opt_params_cir[SIGMA_R],\n",
    "    T,\n",
    "    steps,\n",
    "    iterations,\n",
    ")"
   ]
  },
  {
   "cell_type": "code",
   "execution_count": 74,
   "id": "b3219675",
   "metadata": {},
   "outputs": [
    {
     "data": {
      "image/png": "[encoded data removed]",
      "text/plain": [
       "<Figure size 720x432 with 1 Axes>"
      ]
     },
     "metadata": {},
     "output_type": "display_data"
    }
   ],
   "source": [
    "t = np.linspace(0, T, steps)\n",
    "for j in range(iterations):\n",
    "    plt.plot(t, cir_rate_paths[:, j])\n",
    "cir_rate_paths_df = pd.DataFrame(cir_rate_paths)\n",
    "rate_path = cir_rate_paths_df.rolling(steps).mean()\n",
    "rate_std = 3 * cir_rate_paths_df.rolling(steps).std()\n",
    "\n",
    "lower_line = (rate_path - rate_std)[0]\n",
    "upper_line = (rate_path + rate_std)[0]\n",
    "\n",
    "# plt.fill_between(rate_path.index, lower_line, upper_line, color='b', alpha=.1) #std curves.\n",
    "plt.xlabel(\"Time $t$\", fontsize=14)\n",
    "plt.ylabel(\"$r(t)$\", fontsize=14)\n",
    "plt.title(\"CIR simulated paths\", fontsize=14)\n",
    "axes = plt.gca()\n",
    "axes.set_xlim([0, T])\n",
    "plt.xticks(fontsize=14)\n",
    "plt.yticks(fontsize=14)\n",
    "plt.tight_layout()\n",
    "plt.show()"
   ]
  },
  {
   "cell_type": "code",
   "execution_count": 75,
   "id": "0a27c7a7",
   "metadata": {},
   "outputs": [
    {
     "data": {
      "text/plain": [
       "(360, 100000)"
      ]
     },
     "execution_count": 75,
     "metadata": {},
     "output_type": "execute_result"
    }
   ],
   "source": [
    "cir_rate_paths.shape"
   ]
  },
  {
   "cell_type": "code",
   "execution_count": 76,
   "id": "c3dabd4e",
   "metadata": {},
   "outputs": [
    {
     "name": "stdout",
     "output_type": "stream",
     "text": [
      "Start rate r0: 0.6480%\n",
      "1-year expected range is between 6.9525% - 7.0839%\n",
      "1-year expected value is : 7.0192%\n",
      "1-year std dev is : 0.0151%\n",
      "95% confidence interval for 1-year rate is :       (6.9896%, 7.0489%)\n"
     ]
    }
   ],
   "source": [
    "rate_mean_1yr = np.mean(cir_rate_paths[-1])\n",
    "rate_std_1yr = np.std(cir_rate_paths[-1])\n",
    "critical_value_95 = 1.96\n",
    "\n",
    "print(f\"Start rate r0: {r0:.4%}\")\n",
    "print(\n",
    "    f\"1-year expected range is between {np.min(cir_rate_paths[-1]):.4%} - {np.max(cir_rate_paths[-1]):.4%}\"\n",
    ")\n",
    "print(f\"1-year expected value is : {rate_mean_1yr:.4%}\")\n",
    "print(f\"1-year std dev is : {rate_std_1yr:.4%}\")\n",
    "print(\n",
    "    f\"95% confidence interval for 1-year rate is : \\\n",
    "      ({rate_mean_1yr - critical_value_95 * rate_std_1yr:.4%}, {rate_mean_1yr + critical_value_95 * rate_std_1yr:.4%})\"\n",
    ")"
   ]
  },
  {
   "cell_type": "code",
   "execution_count": null,
   "id": "548203f4",
   "metadata": {},
   "outputs": [],
   "source": []
  }
 ],
 "metadata": {
  "kernelspec": {
   "display_name": "Python 3 (ipykernel)",
   "language": "python",
   "name": "python3"
  },
  "language_info": {
   "codemirror_mode": {
    "name": "ipython",
    "version": 3
   },
   "file_extension": ".py",
   "mimetype": "text/x-python",
   "name": "python",
   "nbconvert_exporter": "python",
   "pygments_lexer": "ipython3",
   "version": "3.9.7"
  }
 },
 "nbformat": 4,
 "nbformat_minor": 5
}
